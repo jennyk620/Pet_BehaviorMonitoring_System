{
 "cells": [
  {
   "cell_type": "markdown",
   "id": "7ecfb58f",
   "metadata": {},
   "source": [
    "# 라이브러리 호출"
   ]
  },
  {
   "cell_type": "code",
   "execution_count": 1,
   "id": "81ffe00b",
   "metadata": {
    "ExecuteTime": {
     "end_time": "2023-05-09T15:16:02.987222Z",
     "start_time": "2023-05-09T15:16:01.852954Z"
    }
   },
   "outputs": [],
   "source": [
    "import matplotlib.pyplot as plt\n",
    "import numpy as np\n",
    "import pandas as pd\n",
    "import math\n",
    "import random\n",
    "import os\n",
    "import seaborn as sns\n",
    "import pdb\n",
    "\n",
    "from sklearn.model_selection import train_test_split\n",
    "from sklearn.preprocessing import LabelEncoder\n",
    "from sklearn.preprocessing import OneHotEncoder\n",
    "from sklearn.metrics import f1_score\n",
    "from sklearn.metrics import confusion_matrix\n",
    "from sklearn.preprocessing import RobustScaler, StandardScaler, MinMaxScaler\n",
    "\n",
    "\n",
    "import matplotlib.font_manager as fm\n",
    "from scipy.interpolate import CubicSpline\n",
    "\n",
    "import torch\n",
    "from torch import nn\n",
    "import torch.nn.functional as F\n",
    "from torchvision import models\n",
    "from torch.utils.data import Dataset, DataLoader, TensorDataset\n",
    "import torch.optim as optim"
   ]
  },
  {
   "cell_type": "code",
   "execution_count": 2,
   "id": "1f4f9e89",
   "metadata": {
    "ExecuteTime": {
     "end_time": "2023-05-09T15:16:02.996143Z",
     "start_time": "2023-05-09T15:16:02.994345Z"
    }
   },
   "outputs": [],
   "source": [
    "from warnings import simplefilter\n",
    "simplefilter(action=\"ignore\", category=pd.errors.PerformanceWarning)"
   ]
  },
  {
   "cell_type": "markdown",
   "id": "c9bdecb2",
   "metadata": {},
   "source": [
    "# 데이터 불러오기 "
   ]
  },
  {
   "cell_type": "code",
   "execution_count": 3,
   "id": "8fb4354c",
   "metadata": {
    "ExecuteTime": {
     "end_time": "2023-05-09T15:16:05.618114Z",
     "start_time": "2023-05-09T15:16:03.002208Z"
    }
   },
   "outputs": [],
   "source": [
    "data = pd.read_csv('./kaggle_data.csv')\n",
    "class_data = pd.read_csv('./class_description (1).csv 22-47-52-462.csv')\n",
    "h_data = pd.read_csv('./kaggle_labelingtable.csv')"
   ]
  },
  {
   "cell_type": "markdown",
   "id": "90716a9f",
   "metadata": {},
   "source": [
    "자이로 가속도를 제외한 컬럼들 삭제한다."
   ]
  },
  {
   "cell_type": "code",
   "execution_count": 6,
   "id": "5aeececd",
   "metadata": {
    "ExecuteTime": {
     "end_time": "2023-05-09T15:16:06.119619Z",
     "start_time": "2023-05-09T15:16:05.679307Z"
    }
   },
   "outputs": [],
   "source": [
    "start_list = []\n",
    "end_list = []\n",
    "behavior_list = []\n",
    "\n",
    "h_data['시작시간'] = pd.to_datetime(h_data['시작시간'])\n",
    "h_data['종료시간'] = pd.to_datetime(h_data['종료시간'])\n",
    "\n",
    "data['Htime'] = pd.to_datetime(data['Htime'])\n",
    "h_data = h_data.drop('기타', axis=1)"
   ]
  },
  {
   "cell_type": "markdown",
   "id": "db85f72d",
   "metadata": {},
   "source": [
    "시계열 타입으로 변경한다."
   ]
  },
  {
   "cell_type": "code",
   "execution_count": 7,
   "id": "ba8bd66d",
   "metadata": {
    "ExecuteTime": {
     "end_time": "2023-05-09T15:16:06.568433Z",
     "start_time": "2023-05-09T15:16:06.139264Z"
    }
   },
   "outputs": [],
   "source": [
    "total_b = []\n",
    "for i in range (len(h_data)) :\n",
    "    # 자세\n",
    "    posture = class_data[(class_data['구분1']=='자세') & (class_data['구분2']==h_data.iloc[i]['자세'])]['CLASS_NUM'].iloc[0]\n",
    "    # 행동\n",
    "    behavior = class_data[(class_data['구분1']=='행동') & (class_data['구분2']==h_data.iloc[i]['행동'])]['CLASS_NUM'].iloc[0]\n",
    "    # 소리\n",
    "    sound = class_data[(class_data['구분1']=='소리') & (class_data['구분2']==h_data.iloc[i]['소리'])]['CLASS_NUM'].iloc[0]\n",
    "    # 종합 행동\n",
    "    total_behavior = str(posture) + '_' + str(behavior) + '_' + str(sound)\n",
    "    total_b.append(total_behavior)\n",
    "    \n",
    "h_data['total_behavior'] = total_b"
   ]
  },
  {
   "cell_type": "code",
   "execution_count": 8,
   "id": "95c86d90",
   "metadata": {
    "ExecuteTime": {
     "end_time": "2023-05-09T15:16:06.593379Z",
     "start_time": "2023-05-09T15:16:06.587055Z"
    }
   },
   "outputs": [],
   "source": [
    "def assign_class(row):\n",
    "    if row['total_behavior'] == '10_13_25':\n",
    "        return 2\n",
    "    elif row['total_behavior'] == '12_13_25':\n",
    "        return 3\n",
    "    elif row['total_behavior'] == '1_13_25':\n",
    "        return 1\n",
    "    elif row['total_behavior'] == '2_13_25':\n",
    "        return 6\n",
    "    elif row['total_behavior'] == '5_13_25':\n",
    "        return 5\n",
    "    elif row['total_behavior'] == '8_13_25':\n",
    "        return 7\n",
    "    else:\n",
    "        return 8  # 기본값\n",
    "\n",
    "h_data['Class'] = h_data.apply(assign_class, axis=1)"
   ]
  },
  {
   "cell_type": "markdown",
   "id": "40aa79e0",
   "metadata": {},
   "source": [
    "각 행동에 대한 종합적인 정보를 나타내며, 코드에서는 이를 이용해 원본 센서 데이터에 행동 정보를 추가하고, 최종적으로 분석 및 처리를 위한 데이터셋을 구성"
   ]
  },
  {
   "cell_type": "code",
   "execution_count": 9,
   "id": "49dc38b3",
   "metadata": {
    "ExecuteTime": {
     "end_time": "2023-05-09T15:19:37.947826Z",
     "start_time": "2023-05-09T15:16:06.612303Z"
    },
    "scrolled": true
   },
   "outputs": [
    {
     "name": "stderr",
     "output_type": "stream",
     "text": [
      "/tmp/ipykernel_1065930/2682057481.py:66: SettingWithCopyWarning: \n",
      "A value is trying to be set on a copy of a slice from a DataFrame\n",
      "\n",
      "See the caveats in the documentation: https://pandas.pydata.org/pandas-docs/stable/user_guide/indexing.html#returning-a-view-versus-a-copy\n",
      "  seq_df.loc[(seq_df[cols] < Q1 - 1.5 * IQR) | (seq_df[cols] > Q3 + 1.5 * IQR), cols] = np.nan\n",
      "/tmp/ipykernel_1065930/2682057481.py:67: SettingWithCopyWarning: \n",
      "A value is trying to be set on a copy of a slice from a DataFrame\n",
      "\n",
      "See the caveats in the documentation: https://pandas.pydata.org/pandas-docs/stable/user_guide/indexing.html#returning-a-view-versus-a-copy\n",
      "  seq_df.interpolate(method='linear', inplace=True)\n"
     ]
    },
    {
     "name": "stdout",
     "output_type": "stream",
     "text": [
      "Processing: 16 - Behavior: 2 - test_df_len: 121\n"
     ]
    },
    {
     "name": "stderr",
     "output_type": "stream",
     "text": [
      "/tmp/ipykernel_1065930/2682057481.py:66: SettingWithCopyWarning: \n",
      "A value is trying to be set on a copy of a slice from a DataFrame\n",
      "\n",
      "See the caveats in the documentation: https://pandas.pydata.org/pandas-docs/stable/user_guide/indexing.html#returning-a-view-versus-a-copy\n",
      "  seq_df.loc[(seq_df[cols] < Q1 - 1.5 * IQR) | (seq_df[cols] > Q3 + 1.5 * IQR), cols] = np.nan\n",
      "/tmp/ipykernel_1065930/2682057481.py:67: SettingWithCopyWarning: \n",
      "A value is trying to be set on a copy of a slice from a DataFrame\n",
      "\n",
      "See the caveats in the documentation: https://pandas.pydata.org/pandas-docs/stable/user_guide/indexing.html#returning-a-view-versus-a-copy\n",
      "  seq_df.interpolate(method='linear', inplace=True)\n"
     ]
    },
    {
     "name": "stdout",
     "output_type": "stream",
     "text": [
      "Processing: 16 - Behavior: 2 - test_df_len: 121\n"
     ]
    },
    {
     "name": "stderr",
     "output_type": "stream",
     "text": [
      "/tmp/ipykernel_1065930/2682057481.py:66: SettingWithCopyWarning: \n",
      "A value is trying to be set on a copy of a slice from a DataFrame\n",
      "\n",
      "See the caveats in the documentation: https://pandas.pydata.org/pandas-docs/stable/user_guide/indexing.html#returning-a-view-versus-a-copy\n",
      "  seq_df.loc[(seq_df[cols] < Q1 - 1.5 * IQR) | (seq_df[cols] > Q3 + 1.5 * IQR), cols] = np.nan\n",
      "/tmp/ipykernel_1065930/2682057481.py:67: SettingWithCopyWarning: \n",
      "A value is trying to be set on a copy of a slice from a DataFrame\n",
      "\n",
      "See the caveats in the documentation: https://pandas.pydata.org/pandas-docs/stable/user_guide/indexing.html#returning-a-view-versus-a-copy\n",
      "  seq_df.interpolate(method='linear', inplace=True)\n"
     ]
    },
    {
     "name": "stdout",
     "output_type": "stream",
     "text": [
      "Processing: 16 - Behavior: 2 - test_df_len: 121\n"
     ]
    },
    {
     "name": "stderr",
     "output_type": "stream",
     "text": [
      "/tmp/ipykernel_1065930/2682057481.py:66: SettingWithCopyWarning: \n",
      "A value is trying to be set on a copy of a slice from a DataFrame\n",
      "\n",
      "See the caveats in the documentation: https://pandas.pydata.org/pandas-docs/stable/user_guide/indexing.html#returning-a-view-versus-a-copy\n",
      "  seq_df.loc[(seq_df[cols] < Q1 - 1.5 * IQR) | (seq_df[cols] > Q3 + 1.5 * IQR), cols] = np.nan\n",
      "/tmp/ipykernel_1065930/2682057481.py:67: SettingWithCopyWarning: \n",
      "A value is trying to be set on a copy of a slice from a DataFrame\n",
      "\n",
      "See the caveats in the documentation: https://pandas.pydata.org/pandas-docs/stable/user_guide/indexing.html#returning-a-view-versus-a-copy\n",
      "  seq_df.interpolate(method='linear', inplace=True)\n"
     ]
    },
    {
     "name": "stdout",
     "output_type": "stream",
     "text": [
      "Processing: 16 - Behavior: 2 - test_df_len: 121\n"
     ]
    },
    {
     "name": "stderr",
     "output_type": "stream",
     "text": [
      "/tmp/ipykernel_1065930/2682057481.py:66: SettingWithCopyWarning: \n",
      "A value is trying to be set on a copy of a slice from a DataFrame\n",
      "\n",
      "See the caveats in the documentation: https://pandas.pydata.org/pandas-docs/stable/user_guide/indexing.html#returning-a-view-versus-a-copy\n",
      "  seq_df.loc[(seq_df[cols] < Q1 - 1.5 * IQR) | (seq_df[cols] > Q3 + 1.5 * IQR), cols] = np.nan\n",
      "/tmp/ipykernel_1065930/2682057481.py:67: SettingWithCopyWarning: \n",
      "A value is trying to be set on a copy of a slice from a DataFrame\n",
      "\n",
      "See the caveats in the documentation: https://pandas.pydata.org/pandas-docs/stable/user_guide/indexing.html#returning-a-view-versus-a-copy\n",
      "  seq_df.interpolate(method='linear', inplace=True)\n"
     ]
    },
    {
     "name": "stdout",
     "output_type": "stream",
     "text": [
      "Processing: 16 - Behavior: 2 - test_df_len: 121\n"
     ]
    },
    {
     "name": "stderr",
     "output_type": "stream",
     "text": [
      "/tmp/ipykernel_1065930/2682057481.py:66: SettingWithCopyWarning: \n",
      "A value is trying to be set on a copy of a slice from a DataFrame\n",
      "\n",
      "See the caveats in the documentation: https://pandas.pydata.org/pandas-docs/stable/user_guide/indexing.html#returning-a-view-versus-a-copy\n",
      "  seq_df.loc[(seq_df[cols] < Q1 - 1.5 * IQR) | (seq_df[cols] > Q3 + 1.5 * IQR), cols] = np.nan\n",
      "/tmp/ipykernel_1065930/2682057481.py:67: SettingWithCopyWarning: \n",
      "A value is trying to be set on a copy of a slice from a DataFrame\n",
      "\n",
      "See the caveats in the documentation: https://pandas.pydata.org/pandas-docs/stable/user_guide/indexing.html#returning-a-view-versus-a-copy\n",
      "  seq_df.interpolate(method='linear', inplace=True)\n"
     ]
    },
    {
     "name": "stdout",
     "output_type": "stream",
     "text": [
      "Processing: 16 - Behavior: 2 - test_df_len: 121\n"
     ]
    },
    {
     "name": "stderr",
     "output_type": "stream",
     "text": [
      "/tmp/ipykernel_1065930/2682057481.py:66: SettingWithCopyWarning: \n",
      "A value is trying to be set on a copy of a slice from a DataFrame\n",
      "\n",
      "See the caveats in the documentation: https://pandas.pydata.org/pandas-docs/stable/user_guide/indexing.html#returning-a-view-versus-a-copy\n",
      "  seq_df.loc[(seq_df[cols] < Q1 - 1.5 * IQR) | (seq_df[cols] > Q3 + 1.5 * IQR), cols] = np.nan\n",
      "/tmp/ipykernel_1065930/2682057481.py:67: SettingWithCopyWarning: \n",
      "A value is trying to be set on a copy of a slice from a DataFrame\n",
      "\n",
      "See the caveats in the documentation: https://pandas.pydata.org/pandas-docs/stable/user_guide/indexing.html#returning-a-view-versus-a-copy\n",
      "  seq_df.interpolate(method='linear', inplace=True)\n"
     ]
    },
    {
     "name": "stdout",
     "output_type": "stream",
     "text": [
      "Processing: 16 - Behavior: 6 - test_df_len: 120\n"
     ]
    },
    {
     "name": "stderr",
     "output_type": "stream",
     "text": [
      "/tmp/ipykernel_1065930/2682057481.py:66: SettingWithCopyWarning: \n",
      "A value is trying to be set on a copy of a slice from a DataFrame\n",
      "\n",
      "See the caveats in the documentation: https://pandas.pydata.org/pandas-docs/stable/user_guide/indexing.html#returning-a-view-versus-a-copy\n",
      "  seq_df.loc[(seq_df[cols] < Q1 - 1.5 * IQR) | (seq_df[cols] > Q3 + 1.5 * IQR), cols] = np.nan\n",
      "/tmp/ipykernel_1065930/2682057481.py:67: SettingWithCopyWarning: \n",
      "A value is trying to be set on a copy of a slice from a DataFrame\n",
      "\n",
      "See the caveats in the documentation: https://pandas.pydata.org/pandas-docs/stable/user_guide/indexing.html#returning-a-view-versus-a-copy\n",
      "  seq_df.interpolate(method='linear', inplace=True)\n"
     ]
    },
    {
     "name": "stdout",
     "output_type": "stream",
     "text": [
      "Processing: 16 - Behavior: 6 - test_df_len: 120\n"
     ]
    },
    {
     "name": "stderr",
     "output_type": "stream",
     "text": [
      "/tmp/ipykernel_1065930/2682057481.py:66: SettingWithCopyWarning: \n",
      "A value is trying to be set on a copy of a slice from a DataFrame\n",
      "\n",
      "See the caveats in the documentation: https://pandas.pydata.org/pandas-docs/stable/user_guide/indexing.html#returning-a-view-versus-a-copy\n",
      "  seq_df.loc[(seq_df[cols] < Q1 - 1.5 * IQR) | (seq_df[cols] > Q3 + 1.5 * IQR), cols] = np.nan\n",
      "/tmp/ipykernel_1065930/2682057481.py:67: SettingWithCopyWarning: \n",
      "A value is trying to be set on a copy of a slice from a DataFrame\n",
      "\n",
      "See the caveats in the documentation: https://pandas.pydata.org/pandas-docs/stable/user_guide/indexing.html#returning-a-view-versus-a-copy\n",
      "  seq_df.interpolate(method='linear', inplace=True)\n"
     ]
    },
    {
     "name": "stdout",
     "output_type": "stream",
     "text": [
      "Processing: 16 - Behavior: 6 - test_df_len: 120\n"
     ]
    },
    {
     "name": "stderr",
     "output_type": "stream",
     "text": [
      "/tmp/ipykernel_1065930/2682057481.py:66: SettingWithCopyWarning: \n",
      "A value is trying to be set on a copy of a slice from a DataFrame\n",
      "\n",
      "See the caveats in the documentation: https://pandas.pydata.org/pandas-docs/stable/user_guide/indexing.html#returning-a-view-versus-a-copy\n",
      "  seq_df.loc[(seq_df[cols] < Q1 - 1.5 * IQR) | (seq_df[cols] > Q3 + 1.5 * IQR), cols] = np.nan\n",
      "/tmp/ipykernel_1065930/2682057481.py:67: SettingWithCopyWarning: \n",
      "A value is trying to be set on a copy of a slice from a DataFrame\n",
      "\n",
      "See the caveats in the documentation: https://pandas.pydata.org/pandas-docs/stable/user_guide/indexing.html#returning-a-view-versus-a-copy\n",
      "  seq_df.interpolate(method='linear', inplace=True)\n"
     ]
    },
    {
     "name": "stdout",
     "output_type": "stream",
     "text": [
      "Processing: 16 - Behavior: 6 - test_df_len: 120\n"
     ]
    },
    {
     "name": "stderr",
     "output_type": "stream",
     "text": [
      "/tmp/ipykernel_1065930/2682057481.py:66: SettingWithCopyWarning: \n",
      "A value is trying to be set on a copy of a slice from a DataFrame\n",
      "\n",
      "See the caveats in the documentation: https://pandas.pydata.org/pandas-docs/stable/user_guide/indexing.html#returning-a-view-versus-a-copy\n",
      "  seq_df.loc[(seq_df[cols] < Q1 - 1.5 * IQR) | (seq_df[cols] > Q3 + 1.5 * IQR), cols] = np.nan\n",
      "/tmp/ipykernel_1065930/2682057481.py:67: SettingWithCopyWarning: \n",
      "A value is trying to be set on a copy of a slice from a DataFrame\n",
      "\n",
      "See the caveats in the documentation: https://pandas.pydata.org/pandas-docs/stable/user_guide/indexing.html#returning-a-view-versus-a-copy\n",
      "  seq_df.interpolate(method='linear', inplace=True)\n"
     ]
    },
    {
     "name": "stdout",
     "output_type": "stream",
     "text": [
      "Processing: 16 - Behavior: 6 - test_df_len: 120\n"
     ]
    },
    {
     "name": "stderr",
     "output_type": "stream",
     "text": [
      "/tmp/ipykernel_1065930/2682057481.py:66: SettingWithCopyWarning: \n",
      "A value is trying to be set on a copy of a slice from a DataFrame\n",
      "\n",
      "See the caveats in the documentation: https://pandas.pydata.org/pandas-docs/stable/user_guide/indexing.html#returning-a-view-versus-a-copy\n",
      "  seq_df.loc[(seq_df[cols] < Q1 - 1.5 * IQR) | (seq_df[cols] > Q3 + 1.5 * IQR), cols] = np.nan\n",
      "/tmp/ipykernel_1065930/2682057481.py:67: SettingWithCopyWarning: \n",
      "A value is trying to be set on a copy of a slice from a DataFrame\n",
      "\n",
      "See the caveats in the documentation: https://pandas.pydata.org/pandas-docs/stable/user_guide/indexing.html#returning-a-view-versus-a-copy\n",
      "  seq_df.interpolate(method='linear', inplace=True)\n"
     ]
    },
    {
     "name": "stdout",
     "output_type": "stream",
     "text": [
      "Processing: 16 - Behavior: 6 - test_df_len: 120\n"
     ]
    },
    {
     "name": "stderr",
     "output_type": "stream",
     "text": [
      "/tmp/ipykernel_1065930/2682057481.py:66: SettingWithCopyWarning: \n",
      "A value is trying to be set on a copy of a slice from a DataFrame\n",
      "\n",
      "See the caveats in the documentation: https://pandas.pydata.org/pandas-docs/stable/user_guide/indexing.html#returning-a-view-versus-a-copy\n",
      "  seq_df.loc[(seq_df[cols] < Q1 - 1.5 * IQR) | (seq_df[cols] > Q3 + 1.5 * IQR), cols] = np.nan\n",
      "/tmp/ipykernel_1065930/2682057481.py:67: SettingWithCopyWarning: \n",
      "A value is trying to be set on a copy of a slice from a DataFrame\n",
      "\n",
      "See the caveats in the documentation: https://pandas.pydata.org/pandas-docs/stable/user_guide/indexing.html#returning-a-view-versus-a-copy\n",
      "  seq_df.interpolate(method='linear', inplace=True)\n"
     ]
    },
    {
     "name": "stdout",
     "output_type": "stream",
     "text": [
      "Processing: 16 - Behavior: 8 - test_df_len: 123\n"
     ]
    },
    {
     "name": "stderr",
     "output_type": "stream",
     "text": [
      "/tmp/ipykernel_1065930/2682057481.py:66: SettingWithCopyWarning: \n",
      "A value is trying to be set on a copy of a slice from a DataFrame\n",
      "\n",
      "See the caveats in the documentation: https://pandas.pydata.org/pandas-docs/stable/user_guide/indexing.html#returning-a-view-versus-a-copy\n",
      "  seq_df.loc[(seq_df[cols] < Q1 - 1.5 * IQR) | (seq_df[cols] > Q3 + 1.5 * IQR), cols] = np.nan\n",
      "/tmp/ipykernel_1065930/2682057481.py:67: SettingWithCopyWarning: \n",
      "A value is trying to be set on a copy of a slice from a DataFrame\n",
      "\n",
      "See the caveats in the documentation: https://pandas.pydata.org/pandas-docs/stable/user_guide/indexing.html#returning-a-view-versus-a-copy\n",
      "  seq_df.interpolate(method='linear', inplace=True)\n"
     ]
    },
    {
     "name": "stdout",
     "output_type": "stream",
     "text": [
      "Processing: 16 - Behavior: 8 - test_df_len: 123\n"
     ]
    },
    {
     "name": "stderr",
     "output_type": "stream",
     "text": [
      "/tmp/ipykernel_1065930/2682057481.py:66: SettingWithCopyWarning: \n",
      "A value is trying to be set on a copy of a slice from a DataFrame\n",
      "\n",
      "See the caveats in the documentation: https://pandas.pydata.org/pandas-docs/stable/user_guide/indexing.html#returning-a-view-versus-a-copy\n",
      "  seq_df.loc[(seq_df[cols] < Q1 - 1.5 * IQR) | (seq_df[cols] > Q3 + 1.5 * IQR), cols] = np.nan\n",
      "/tmp/ipykernel_1065930/2682057481.py:67: SettingWithCopyWarning: \n",
      "A value is trying to be set on a copy of a slice from a DataFrame\n",
      "\n",
      "See the caveats in the documentation: https://pandas.pydata.org/pandas-docs/stable/user_guide/indexing.html#returning-a-view-versus-a-copy\n",
      "  seq_df.interpolate(method='linear', inplace=True)\n"
     ]
    },
    {
     "name": "stdout",
     "output_type": "stream",
     "text": [
      "Processing: 16 - Behavior: 8 - test_df_len: 123\n"
     ]
    },
    {
     "name": "stderr",
     "output_type": "stream",
     "text": [
      "/tmp/ipykernel_1065930/2682057481.py:66: SettingWithCopyWarning: \n",
      "A value is trying to be set on a copy of a slice from a DataFrame\n",
      "\n",
      "See the caveats in the documentation: https://pandas.pydata.org/pandas-docs/stable/user_guide/indexing.html#returning-a-view-versus-a-copy\n",
      "  seq_df.loc[(seq_df[cols] < Q1 - 1.5 * IQR) | (seq_df[cols] > Q3 + 1.5 * IQR), cols] = np.nan\n",
      "/tmp/ipykernel_1065930/2682057481.py:67: SettingWithCopyWarning: \n",
      "A value is trying to be set on a copy of a slice from a DataFrame\n",
      "\n",
      "See the caveats in the documentation: https://pandas.pydata.org/pandas-docs/stable/user_guide/indexing.html#returning-a-view-versus-a-copy\n",
      "  seq_df.interpolate(method='linear', inplace=True)\n"
     ]
    },
    {
     "name": "stdout",
     "output_type": "stream",
     "text": [
      "Processing: 16 - Behavior: 8 - test_df_len: 123\n"
     ]
    },
    {
     "name": "stderr",
     "output_type": "stream",
     "text": [
      "/tmp/ipykernel_1065930/2682057481.py:66: SettingWithCopyWarning: \n",
      "A value is trying to be set on a copy of a slice from a DataFrame\n",
      "\n",
      "See the caveats in the documentation: https://pandas.pydata.org/pandas-docs/stable/user_guide/indexing.html#returning-a-view-versus-a-copy\n",
      "  seq_df.loc[(seq_df[cols] < Q1 - 1.5 * IQR) | (seq_df[cols] > Q3 + 1.5 * IQR), cols] = np.nan\n",
      "/tmp/ipykernel_1065930/2682057481.py:67: SettingWithCopyWarning: \n",
      "A value is trying to be set on a copy of a slice from a DataFrame\n",
      "\n",
      "See the caveats in the documentation: https://pandas.pydata.org/pandas-docs/stable/user_guide/indexing.html#returning-a-view-versus-a-copy\n",
      "  seq_df.interpolate(method='linear', inplace=True)\n"
     ]
    },
    {
     "name": "stdout",
     "output_type": "stream",
     "text": [
      "Processing: 16 - Behavior: 8 - test_df_len: 123\n"
     ]
    },
    {
     "name": "stderr",
     "output_type": "stream",
     "text": [
      "/tmp/ipykernel_1065930/2682057481.py:66: SettingWithCopyWarning: \n",
      "A value is trying to be set on a copy of a slice from a DataFrame\n",
      "\n",
      "See the caveats in the documentation: https://pandas.pydata.org/pandas-docs/stable/user_guide/indexing.html#returning-a-view-versus-a-copy\n",
      "  seq_df.loc[(seq_df[cols] < Q1 - 1.5 * IQR) | (seq_df[cols] > Q3 + 1.5 * IQR), cols] = np.nan\n",
      "/tmp/ipykernel_1065930/2682057481.py:67: SettingWithCopyWarning: \n",
      "A value is trying to be set on a copy of a slice from a DataFrame\n",
      "\n",
      "See the caveats in the documentation: https://pandas.pydata.org/pandas-docs/stable/user_guide/indexing.html#returning-a-view-versus-a-copy\n",
      "  seq_df.interpolate(method='linear', inplace=True)\n"
     ]
    },
    {
     "name": "stdout",
     "output_type": "stream",
     "text": [
      "Processing: 16 - Behavior: 8 - test_df_len: 123\n"
     ]
    },
    {
     "name": "stderr",
     "output_type": "stream",
     "text": [
      "/tmp/ipykernel_1065930/2682057481.py:66: SettingWithCopyWarning: \n",
      "A value is trying to be set on a copy of a slice from a DataFrame\n",
      "\n",
      "See the caveats in the documentation: https://pandas.pydata.org/pandas-docs/stable/user_guide/indexing.html#returning-a-view-versus-a-copy\n",
      "  seq_df.loc[(seq_df[cols] < Q1 - 1.5 * IQR) | (seq_df[cols] > Q3 + 1.5 * IQR), cols] = np.nan\n",
      "/tmp/ipykernel_1065930/2682057481.py:67: SettingWithCopyWarning: \n",
      "A value is trying to be set on a copy of a slice from a DataFrame\n",
      "\n",
      "See the caveats in the documentation: https://pandas.pydata.org/pandas-docs/stable/user_guide/indexing.html#returning-a-view-versus-a-copy\n",
      "  seq_df.interpolate(method='linear', inplace=True)\n"
     ]
    },
    {
     "name": "stdout",
     "output_type": "stream",
     "text": [
      "Processing: 16 - Behavior: 5 - test_df_len: 115\n"
     ]
    },
    {
     "name": "stderr",
     "output_type": "stream",
     "text": [
      "/tmp/ipykernel_1065930/2682057481.py:66: SettingWithCopyWarning: \n",
      "A value is trying to be set on a copy of a slice from a DataFrame\n",
      "\n",
      "See the caveats in the documentation: https://pandas.pydata.org/pandas-docs/stable/user_guide/indexing.html#returning-a-view-versus-a-copy\n",
      "  seq_df.loc[(seq_df[cols] < Q1 - 1.5 * IQR) | (seq_df[cols] > Q3 + 1.5 * IQR), cols] = np.nan\n",
      "/tmp/ipykernel_1065930/2682057481.py:67: SettingWithCopyWarning: \n",
      "A value is trying to be set on a copy of a slice from a DataFrame\n",
      "\n",
      "See the caveats in the documentation: https://pandas.pydata.org/pandas-docs/stable/user_guide/indexing.html#returning-a-view-versus-a-copy\n",
      "  seq_df.interpolate(method='linear', inplace=True)\n"
     ]
    },
    {
     "name": "stdout",
     "output_type": "stream",
     "text": [
      "Processing: 16 - Behavior: 5 - test_df_len: 115\n"
     ]
    },
    {
     "name": "stderr",
     "output_type": "stream",
     "text": [
      "/tmp/ipykernel_1065930/2682057481.py:66: SettingWithCopyWarning: \n",
      "A value is trying to be set on a copy of a slice from a DataFrame\n",
      "\n",
      "See the caveats in the documentation: https://pandas.pydata.org/pandas-docs/stable/user_guide/indexing.html#returning-a-view-versus-a-copy\n",
      "  seq_df.loc[(seq_df[cols] < Q1 - 1.5 * IQR) | (seq_df[cols] > Q3 + 1.5 * IQR), cols] = np.nan\n",
      "/tmp/ipykernel_1065930/2682057481.py:67: SettingWithCopyWarning: \n",
      "A value is trying to be set on a copy of a slice from a DataFrame\n",
      "\n",
      "See the caveats in the documentation: https://pandas.pydata.org/pandas-docs/stable/user_guide/indexing.html#returning-a-view-versus-a-copy\n",
      "  seq_df.interpolate(method='linear', inplace=True)\n"
     ]
    },
    {
     "name": "stdout",
     "output_type": "stream",
     "text": [
      "Processing: 16 - Behavior: 5 - test_df_len: 115\n"
     ]
    },
    {
     "name": "stderr",
     "output_type": "stream",
     "text": [
      "/tmp/ipykernel_1065930/2682057481.py:66: SettingWithCopyWarning: \n",
      "A value is trying to be set on a copy of a slice from a DataFrame\n",
      "\n",
      "See the caveats in the documentation: https://pandas.pydata.org/pandas-docs/stable/user_guide/indexing.html#returning-a-view-versus-a-copy\n",
      "  seq_df.loc[(seq_df[cols] < Q1 - 1.5 * IQR) | (seq_df[cols] > Q3 + 1.5 * IQR), cols] = np.nan\n",
      "/tmp/ipykernel_1065930/2682057481.py:67: SettingWithCopyWarning: \n",
      "A value is trying to be set on a copy of a slice from a DataFrame\n",
      "\n",
      "See the caveats in the documentation: https://pandas.pydata.org/pandas-docs/stable/user_guide/indexing.html#returning-a-view-versus-a-copy\n",
      "  seq_df.interpolate(method='linear', inplace=True)\n"
     ]
    },
    {
     "name": "stdout",
     "output_type": "stream",
     "text": [
      "Processing: 16 - Behavior: 5 - test_df_len: 115\n"
     ]
    },
    {
     "name": "stderr",
     "output_type": "stream",
     "text": [
      "/tmp/ipykernel_1065930/2682057481.py:66: SettingWithCopyWarning: \n",
      "A value is trying to be set on a copy of a slice from a DataFrame\n",
      "\n",
      "See the caveats in the documentation: https://pandas.pydata.org/pandas-docs/stable/user_guide/indexing.html#returning-a-view-versus-a-copy\n",
      "  seq_df.loc[(seq_df[cols] < Q1 - 1.5 * IQR) | (seq_df[cols] > Q3 + 1.5 * IQR), cols] = np.nan\n",
      "/tmp/ipykernel_1065930/2682057481.py:67: SettingWithCopyWarning: \n",
      "A value is trying to be set on a copy of a slice from a DataFrame\n",
      "\n",
      "See the caveats in the documentation: https://pandas.pydata.org/pandas-docs/stable/user_guide/indexing.html#returning-a-view-versus-a-copy\n",
      "  seq_df.interpolate(method='linear', inplace=True)\n"
     ]
    },
    {
     "name": "stdout",
     "output_type": "stream",
     "text": [
      "Processing: 16 - Behavior: 5 - test_df_len: 115\n"
     ]
    },
    {
     "name": "stderr",
     "output_type": "stream",
     "text": [
      "/tmp/ipykernel_1065930/2682057481.py:66: SettingWithCopyWarning: \n",
      "A value is trying to be set on a copy of a slice from a DataFrame\n",
      "\n",
      "See the caveats in the documentation: https://pandas.pydata.org/pandas-docs/stable/user_guide/indexing.html#returning-a-view-versus-a-copy\n",
      "  seq_df.loc[(seq_df[cols] < Q1 - 1.5 * IQR) | (seq_df[cols] > Q3 + 1.5 * IQR), cols] = np.nan\n",
      "/tmp/ipykernel_1065930/2682057481.py:67: SettingWithCopyWarning: \n",
      "A value is trying to be set on a copy of a slice from a DataFrame\n",
      "\n",
      "See the caveats in the documentation: https://pandas.pydata.org/pandas-docs/stable/user_guide/indexing.html#returning-a-view-versus-a-copy\n",
      "  seq_df.interpolate(method='linear', inplace=True)\n"
     ]
    },
    {
     "name": "stdout",
     "output_type": "stream",
     "text": [
      "Processing: 16 - Behavior: 5 - test_df_len: 115\n"
     ]
    },
    {
     "name": "stderr",
     "output_type": "stream",
     "text": [
      "/tmp/ipykernel_1065930/2682057481.py:66: SettingWithCopyWarning: \n",
      "A value is trying to be set on a copy of a slice from a DataFrame\n",
      "\n",
      "See the caveats in the documentation: https://pandas.pydata.org/pandas-docs/stable/user_guide/indexing.html#returning-a-view-versus-a-copy\n",
      "  seq_df.loc[(seq_df[cols] < Q1 - 1.5 * IQR) | (seq_df[cols] > Q3 + 1.5 * IQR), cols] = np.nan\n",
      "/tmp/ipykernel_1065930/2682057481.py:67: SettingWithCopyWarning: \n",
      "A value is trying to be set on a copy of a slice from a DataFrame\n",
      "\n",
      "See the caveats in the documentation: https://pandas.pydata.org/pandas-docs/stable/user_guide/indexing.html#returning-a-view-versus-a-copy\n",
      "  seq_df.interpolate(method='linear', inplace=True)\n"
     ]
    },
    {
     "name": "stdout",
     "output_type": "stream",
     "text": [
      "Processing: 16 - Behavior: 7 - test_df_len: 126\n"
     ]
    },
    {
     "name": "stderr",
     "output_type": "stream",
     "text": [
      "/tmp/ipykernel_1065930/2682057481.py:66: SettingWithCopyWarning: \n",
      "A value is trying to be set on a copy of a slice from a DataFrame\n",
      "\n",
      "See the caveats in the documentation: https://pandas.pydata.org/pandas-docs/stable/user_guide/indexing.html#returning-a-view-versus-a-copy\n",
      "  seq_df.loc[(seq_df[cols] < Q1 - 1.5 * IQR) | (seq_df[cols] > Q3 + 1.5 * IQR), cols] = np.nan\n",
      "/tmp/ipykernel_1065930/2682057481.py:67: SettingWithCopyWarning: \n",
      "A value is trying to be set on a copy of a slice from a DataFrame\n",
      "\n",
      "See the caveats in the documentation: https://pandas.pydata.org/pandas-docs/stable/user_guide/indexing.html#returning-a-view-versus-a-copy\n",
      "  seq_df.interpolate(method='linear', inplace=True)\n"
     ]
    },
    {
     "name": "stdout",
     "output_type": "stream",
     "text": [
      "Processing: 16 - Behavior: 7 - test_df_len: 126\n"
     ]
    },
    {
     "name": "stderr",
     "output_type": "stream",
     "text": [
      "/tmp/ipykernel_1065930/2682057481.py:66: SettingWithCopyWarning: \n",
      "A value is trying to be set on a copy of a slice from a DataFrame\n",
      "\n",
      "See the caveats in the documentation: https://pandas.pydata.org/pandas-docs/stable/user_guide/indexing.html#returning-a-view-versus-a-copy\n",
      "  seq_df.loc[(seq_df[cols] < Q1 - 1.5 * IQR) | (seq_df[cols] > Q3 + 1.5 * IQR), cols] = np.nan\n",
      "/tmp/ipykernel_1065930/2682057481.py:67: SettingWithCopyWarning: \n",
      "A value is trying to be set on a copy of a slice from a DataFrame\n",
      "\n",
      "See the caveats in the documentation: https://pandas.pydata.org/pandas-docs/stable/user_guide/indexing.html#returning-a-view-versus-a-copy\n",
      "  seq_df.interpolate(method='linear', inplace=True)\n"
     ]
    },
    {
     "name": "stdout",
     "output_type": "stream",
     "text": [
      "Processing: 16 - Behavior: 7 - test_df_len: 126\n"
     ]
    },
    {
     "name": "stderr",
     "output_type": "stream",
     "text": [
      "/tmp/ipykernel_1065930/2682057481.py:66: SettingWithCopyWarning: \n",
      "A value is trying to be set on a copy of a slice from a DataFrame\n",
      "\n",
      "See the caveats in the documentation: https://pandas.pydata.org/pandas-docs/stable/user_guide/indexing.html#returning-a-view-versus-a-copy\n",
      "  seq_df.loc[(seq_df[cols] < Q1 - 1.5 * IQR) | (seq_df[cols] > Q3 + 1.5 * IQR), cols] = np.nan\n",
      "/tmp/ipykernel_1065930/2682057481.py:67: SettingWithCopyWarning: \n",
      "A value is trying to be set on a copy of a slice from a DataFrame\n",
      "\n",
      "See the caveats in the documentation: https://pandas.pydata.org/pandas-docs/stable/user_guide/indexing.html#returning-a-view-versus-a-copy\n",
      "  seq_df.interpolate(method='linear', inplace=True)\n"
     ]
    },
    {
     "name": "stdout",
     "output_type": "stream",
     "text": [
      "Processing: 16 - Behavior: 7 - test_df_len: 126\n"
     ]
    },
    {
     "name": "stderr",
     "output_type": "stream",
     "text": [
      "/tmp/ipykernel_1065930/2682057481.py:66: SettingWithCopyWarning: \n",
      "A value is trying to be set on a copy of a slice from a DataFrame\n",
      "\n",
      "See the caveats in the documentation: https://pandas.pydata.org/pandas-docs/stable/user_guide/indexing.html#returning-a-view-versus-a-copy\n",
      "  seq_df.loc[(seq_df[cols] < Q1 - 1.5 * IQR) | (seq_df[cols] > Q3 + 1.5 * IQR), cols] = np.nan\n",
      "/tmp/ipykernel_1065930/2682057481.py:67: SettingWithCopyWarning: \n",
      "A value is trying to be set on a copy of a slice from a DataFrame\n",
      "\n",
      "See the caveats in the documentation: https://pandas.pydata.org/pandas-docs/stable/user_guide/indexing.html#returning-a-view-versus-a-copy\n",
      "  seq_df.interpolate(method='linear', inplace=True)\n"
     ]
    },
    {
     "name": "stdout",
     "output_type": "stream",
     "text": [
      "Processing: 16 - Behavior: 7 - test_df_len: 126\n"
     ]
    },
    {
     "name": "stderr",
     "output_type": "stream",
     "text": [
      "/tmp/ipykernel_1065930/2682057481.py:66: SettingWithCopyWarning: \n",
      "A value is trying to be set on a copy of a slice from a DataFrame\n",
      "\n",
      "See the caveats in the documentation: https://pandas.pydata.org/pandas-docs/stable/user_guide/indexing.html#returning-a-view-versus-a-copy\n",
      "  seq_df.loc[(seq_df[cols] < Q1 - 1.5 * IQR) | (seq_df[cols] > Q3 + 1.5 * IQR), cols] = np.nan\n",
      "/tmp/ipykernel_1065930/2682057481.py:67: SettingWithCopyWarning: \n",
      "A value is trying to be set on a copy of a slice from a DataFrame\n",
      "\n",
      "See the caveats in the documentation: https://pandas.pydata.org/pandas-docs/stable/user_guide/indexing.html#returning-a-view-versus-a-copy\n",
      "  seq_df.interpolate(method='linear', inplace=True)\n"
     ]
    },
    {
     "name": "stdout",
     "output_type": "stream",
     "text": [
      "Processing: 16 - Behavior: 7 - test_df_len: 126\n"
     ]
    },
    {
     "name": "stderr",
     "output_type": "stream",
     "text": [
      "/tmp/ipykernel_1065930/2682057481.py:66: SettingWithCopyWarning: \n",
      "A value is trying to be set on a copy of a slice from a DataFrame\n",
      "\n",
      "See the caveats in the documentation: https://pandas.pydata.org/pandas-docs/stable/user_guide/indexing.html#returning-a-view-versus-a-copy\n",
      "  seq_df.loc[(seq_df[cols] < Q1 - 1.5 * IQR) | (seq_df[cols] > Q3 + 1.5 * IQR), cols] = np.nan\n",
      "/tmp/ipykernel_1065930/2682057481.py:67: SettingWithCopyWarning: \n",
      "A value is trying to be set on a copy of a slice from a DataFrame\n",
      "\n",
      "See the caveats in the documentation: https://pandas.pydata.org/pandas-docs/stable/user_guide/indexing.html#returning-a-view-versus-a-copy\n",
      "  seq_df.interpolate(method='linear', inplace=True)\n"
     ]
    },
    {
     "name": "stdout",
     "output_type": "stream",
     "text": [
      "Processing: 16 - Behavior: 1 - test_df_len: 123\n"
     ]
    },
    {
     "name": "stderr",
     "output_type": "stream",
     "text": [
      "/tmp/ipykernel_1065930/2682057481.py:66: SettingWithCopyWarning: \n",
      "A value is trying to be set on a copy of a slice from a DataFrame\n",
      "\n",
      "See the caveats in the documentation: https://pandas.pydata.org/pandas-docs/stable/user_guide/indexing.html#returning-a-view-versus-a-copy\n",
      "  seq_df.loc[(seq_df[cols] < Q1 - 1.5 * IQR) | (seq_df[cols] > Q3 + 1.5 * IQR), cols] = np.nan\n",
      "/tmp/ipykernel_1065930/2682057481.py:67: SettingWithCopyWarning: \n",
      "A value is trying to be set on a copy of a slice from a DataFrame\n",
      "\n",
      "See the caveats in the documentation: https://pandas.pydata.org/pandas-docs/stable/user_guide/indexing.html#returning-a-view-versus-a-copy\n",
      "  seq_df.interpolate(method='linear', inplace=True)\n"
     ]
    },
    {
     "name": "stdout",
     "output_type": "stream",
     "text": [
      "Processing: 16 - Behavior: 1 - test_df_len: 123\n"
     ]
    },
    {
     "name": "stderr",
     "output_type": "stream",
     "text": [
      "/tmp/ipykernel_1065930/2682057481.py:66: SettingWithCopyWarning: \n",
      "A value is trying to be set on a copy of a slice from a DataFrame\n",
      "\n",
      "See the caveats in the documentation: https://pandas.pydata.org/pandas-docs/stable/user_guide/indexing.html#returning-a-view-versus-a-copy\n",
      "  seq_df.loc[(seq_df[cols] < Q1 - 1.5 * IQR) | (seq_df[cols] > Q3 + 1.5 * IQR), cols] = np.nan\n",
      "/tmp/ipykernel_1065930/2682057481.py:67: SettingWithCopyWarning: \n",
      "A value is trying to be set on a copy of a slice from a DataFrame\n",
      "\n",
      "See the caveats in the documentation: https://pandas.pydata.org/pandas-docs/stable/user_guide/indexing.html#returning-a-view-versus-a-copy\n",
      "  seq_df.interpolate(method='linear', inplace=True)\n"
     ]
    },
    {
     "name": "stdout",
     "output_type": "stream",
     "text": [
      "Processing: 16 - Behavior: 1 - test_df_len: 123\n"
     ]
    },
    {
     "name": "stderr",
     "output_type": "stream",
     "text": [
      "/tmp/ipykernel_1065930/2682057481.py:66: SettingWithCopyWarning: \n",
      "A value is trying to be set on a copy of a slice from a DataFrame\n",
      "\n",
      "See the caveats in the documentation: https://pandas.pydata.org/pandas-docs/stable/user_guide/indexing.html#returning-a-view-versus-a-copy\n",
      "  seq_df.loc[(seq_df[cols] < Q1 - 1.5 * IQR) | (seq_df[cols] > Q3 + 1.5 * IQR), cols] = np.nan\n",
      "/tmp/ipykernel_1065930/2682057481.py:67: SettingWithCopyWarning: \n",
      "A value is trying to be set on a copy of a slice from a DataFrame\n",
      "\n",
      "See the caveats in the documentation: https://pandas.pydata.org/pandas-docs/stable/user_guide/indexing.html#returning-a-view-versus-a-copy\n",
      "  seq_df.interpolate(method='linear', inplace=True)\n"
     ]
    },
    {
     "name": "stdout",
     "output_type": "stream",
     "text": [
      "Processing: 16 - Behavior: 1 - test_df_len: 123\n"
     ]
    },
    {
     "name": "stderr",
     "output_type": "stream",
     "text": [
      "/tmp/ipykernel_1065930/2682057481.py:66: SettingWithCopyWarning: \n",
      "A value is trying to be set on a copy of a slice from a DataFrame\n",
      "\n",
      "See the caveats in the documentation: https://pandas.pydata.org/pandas-docs/stable/user_guide/indexing.html#returning-a-view-versus-a-copy\n",
      "  seq_df.loc[(seq_df[cols] < Q1 - 1.5 * IQR) | (seq_df[cols] > Q3 + 1.5 * IQR), cols] = np.nan\n",
      "/tmp/ipykernel_1065930/2682057481.py:67: SettingWithCopyWarning: \n",
      "A value is trying to be set on a copy of a slice from a DataFrame\n",
      "\n",
      "See the caveats in the documentation: https://pandas.pydata.org/pandas-docs/stable/user_guide/indexing.html#returning-a-view-versus-a-copy\n",
      "  seq_df.interpolate(method='linear', inplace=True)\n"
     ]
    },
    {
     "name": "stdout",
     "output_type": "stream",
     "text": [
      "Processing: 16 - Behavior: 1 - test_df_len: 123\n"
     ]
    },
    {
     "name": "stderr",
     "output_type": "stream",
     "text": [
      "/tmp/ipykernel_1065930/2682057481.py:66: SettingWithCopyWarning: \n",
      "A value is trying to be set on a copy of a slice from a DataFrame\n",
      "\n",
      "See the caveats in the documentation: https://pandas.pydata.org/pandas-docs/stable/user_guide/indexing.html#returning-a-view-versus-a-copy\n",
      "  seq_df.loc[(seq_df[cols] < Q1 - 1.5 * IQR) | (seq_df[cols] > Q3 + 1.5 * IQR), cols] = np.nan\n",
      "/tmp/ipykernel_1065930/2682057481.py:67: SettingWithCopyWarning: \n",
      "A value is trying to be set on a copy of a slice from a DataFrame\n",
      "\n",
      "See the caveats in the documentation: https://pandas.pydata.org/pandas-docs/stable/user_guide/indexing.html#returning-a-view-versus-a-copy\n",
      "  seq_df.interpolate(method='linear', inplace=True)\n"
     ]
    },
    {
     "name": "stdout",
     "output_type": "stream",
     "text": [
      "Processing: 16 - Behavior: 1 - test_df_len: 123\n"
     ]
    },
    {
     "name": "stderr",
     "output_type": "stream",
     "text": [
      "/tmp/ipykernel_1065930/2682057481.py:66: SettingWithCopyWarning: \n",
      "A value is trying to be set on a copy of a slice from a DataFrame\n",
      "\n",
      "See the caveats in the documentation: https://pandas.pydata.org/pandas-docs/stable/user_guide/indexing.html#returning-a-view-versus-a-copy\n",
      "  seq_df.loc[(seq_df[cols] < Q1 - 1.5 * IQR) | (seq_df[cols] > Q3 + 1.5 * IQR), cols] = np.nan\n",
      "/tmp/ipykernel_1065930/2682057481.py:67: SettingWithCopyWarning: \n",
      "A value is trying to be set on a copy of a slice from a DataFrame\n",
      "\n",
      "See the caveats in the documentation: https://pandas.pydata.org/pandas-docs/stable/user_guide/indexing.html#returning-a-view-versus-a-copy\n",
      "  seq_df.interpolate(method='linear', inplace=True)\n"
     ]
    },
    {
     "name": "stdout",
     "output_type": "stream",
     "text": [
      "Processing: 16 - Behavior: 3 - test_df_len: 121\n"
     ]
    },
    {
     "name": "stderr",
     "output_type": "stream",
     "text": [
      "/tmp/ipykernel_1065930/2682057481.py:66: SettingWithCopyWarning: \n",
      "A value is trying to be set on a copy of a slice from a DataFrame\n",
      "\n",
      "See the caveats in the documentation: https://pandas.pydata.org/pandas-docs/stable/user_guide/indexing.html#returning-a-view-versus-a-copy\n",
      "  seq_df.loc[(seq_df[cols] < Q1 - 1.5 * IQR) | (seq_df[cols] > Q3 + 1.5 * IQR), cols] = np.nan\n",
      "/tmp/ipykernel_1065930/2682057481.py:67: SettingWithCopyWarning: \n",
      "A value is trying to be set on a copy of a slice from a DataFrame\n",
      "\n",
      "See the caveats in the documentation: https://pandas.pydata.org/pandas-docs/stable/user_guide/indexing.html#returning-a-view-versus-a-copy\n",
      "  seq_df.interpolate(method='linear', inplace=True)\n"
     ]
    },
    {
     "name": "stdout",
     "output_type": "stream",
     "text": [
      "Processing: 16 - Behavior: 3 - test_df_len: 121\n"
     ]
    },
    {
     "name": "stderr",
     "output_type": "stream",
     "text": [
      "/tmp/ipykernel_1065930/2682057481.py:66: SettingWithCopyWarning: \n",
      "A value is trying to be set on a copy of a slice from a DataFrame\n",
      "\n",
      "See the caveats in the documentation: https://pandas.pydata.org/pandas-docs/stable/user_guide/indexing.html#returning-a-view-versus-a-copy\n",
      "  seq_df.loc[(seq_df[cols] < Q1 - 1.5 * IQR) | (seq_df[cols] > Q3 + 1.5 * IQR), cols] = np.nan\n",
      "/tmp/ipykernel_1065930/2682057481.py:67: SettingWithCopyWarning: \n",
      "A value is trying to be set on a copy of a slice from a DataFrame\n",
      "\n",
      "See the caveats in the documentation: https://pandas.pydata.org/pandas-docs/stable/user_guide/indexing.html#returning-a-view-versus-a-copy\n",
      "  seq_df.interpolate(method='linear', inplace=True)\n"
     ]
    },
    {
     "name": "stdout",
     "output_type": "stream",
     "text": [
      "Processing: 16 - Behavior: 3 - test_df_len: 121\n"
     ]
    },
    {
     "name": "stderr",
     "output_type": "stream",
     "text": [
      "/tmp/ipykernel_1065930/2682057481.py:66: SettingWithCopyWarning: \n",
      "A value is trying to be set on a copy of a slice from a DataFrame\n",
      "\n",
      "See the caveats in the documentation: https://pandas.pydata.org/pandas-docs/stable/user_guide/indexing.html#returning-a-view-versus-a-copy\n",
      "  seq_df.loc[(seq_df[cols] < Q1 - 1.5 * IQR) | (seq_df[cols] > Q3 + 1.5 * IQR), cols] = np.nan\n",
      "/tmp/ipykernel_1065930/2682057481.py:67: SettingWithCopyWarning: \n",
      "A value is trying to be set on a copy of a slice from a DataFrame\n",
      "\n",
      "See the caveats in the documentation: https://pandas.pydata.org/pandas-docs/stable/user_guide/indexing.html#returning-a-view-versus-a-copy\n",
      "  seq_df.interpolate(method='linear', inplace=True)\n"
     ]
    },
    {
     "name": "stdout",
     "output_type": "stream",
     "text": [
      "Processing: 16 - Behavior: 3 - test_df_len: 121\n"
     ]
    },
    {
     "name": "stderr",
     "output_type": "stream",
     "text": [
      "/tmp/ipykernel_1065930/2682057481.py:66: SettingWithCopyWarning: \n",
      "A value is trying to be set on a copy of a slice from a DataFrame\n",
      "\n",
      "See the caveats in the documentation: https://pandas.pydata.org/pandas-docs/stable/user_guide/indexing.html#returning-a-view-versus-a-copy\n",
      "  seq_df.loc[(seq_df[cols] < Q1 - 1.5 * IQR) | (seq_df[cols] > Q3 + 1.5 * IQR), cols] = np.nan\n",
      "/tmp/ipykernel_1065930/2682057481.py:67: SettingWithCopyWarning: \n",
      "A value is trying to be set on a copy of a slice from a DataFrame\n",
      "\n",
      "See the caveats in the documentation: https://pandas.pydata.org/pandas-docs/stable/user_guide/indexing.html#returning-a-view-versus-a-copy\n",
      "  seq_df.interpolate(method='linear', inplace=True)\n"
     ]
    },
    {
     "name": "stdout",
     "output_type": "stream",
     "text": [
      "Processing: 16 - Behavior: 3 - test_df_len: 121\n"
     ]
    },
    {
     "name": "stderr",
     "output_type": "stream",
     "text": [
      "/tmp/ipykernel_1065930/2682057481.py:66: SettingWithCopyWarning: \n",
      "A value is trying to be set on a copy of a slice from a DataFrame\n",
      "\n",
      "See the caveats in the documentation: https://pandas.pydata.org/pandas-docs/stable/user_guide/indexing.html#returning-a-view-versus-a-copy\n",
      "  seq_df.loc[(seq_df[cols] < Q1 - 1.5 * IQR) | (seq_df[cols] > Q3 + 1.5 * IQR), cols] = np.nan\n",
      "/tmp/ipykernel_1065930/2682057481.py:67: SettingWithCopyWarning: \n",
      "A value is trying to be set on a copy of a slice from a DataFrame\n",
      "\n",
      "See the caveats in the documentation: https://pandas.pydata.org/pandas-docs/stable/user_guide/indexing.html#returning-a-view-versus-a-copy\n",
      "  seq_df.interpolate(method='linear', inplace=True)\n"
     ]
    },
    {
     "name": "stdout",
     "output_type": "stream",
     "text": [
      "Processing: 16 - Behavior: 3 - test_df_len: 121\n"
     ]
    },
    {
     "name": "stderr",
     "output_type": "stream",
     "text": [
      "/tmp/ipykernel_1065930/2682057481.py:66: SettingWithCopyWarning: \n",
      "A value is trying to be set on a copy of a slice from a DataFrame\n",
      "\n",
      "See the caveats in the documentation: https://pandas.pydata.org/pandas-docs/stable/user_guide/indexing.html#returning-a-view-versus-a-copy\n",
      "  seq_df.loc[(seq_df[cols] < Q1 - 1.5 * IQR) | (seq_df[cols] > Q3 + 1.5 * IQR), cols] = np.nan\n",
      "/tmp/ipykernel_1065930/2682057481.py:67: SettingWithCopyWarning: \n",
      "A value is trying to be set on a copy of a slice from a DataFrame\n",
      "\n",
      "See the caveats in the documentation: https://pandas.pydata.org/pandas-docs/stable/user_guide/indexing.html#returning-a-view-versus-a-copy\n",
      "  seq_df.interpolate(method='linear', inplace=True)\n"
     ]
    },
    {
     "name": "stdout",
     "output_type": "stream",
     "text": [
      "Processing: 16 - Behavior: 7 - test_df_len: 122\n"
     ]
    },
    {
     "name": "stderr",
     "output_type": "stream",
     "text": [
      "/tmp/ipykernel_1065930/2682057481.py:66: SettingWithCopyWarning: \n",
      "A value is trying to be set on a copy of a slice from a DataFrame\n",
      "\n",
      "See the caveats in the documentation: https://pandas.pydata.org/pandas-docs/stable/user_guide/indexing.html#returning-a-view-versus-a-copy\n",
      "  seq_df.loc[(seq_df[cols] < Q1 - 1.5 * IQR) | (seq_df[cols] > Q3 + 1.5 * IQR), cols] = np.nan\n",
      "/tmp/ipykernel_1065930/2682057481.py:67: SettingWithCopyWarning: \n",
      "A value is trying to be set on a copy of a slice from a DataFrame\n",
      "\n",
      "See the caveats in the documentation: https://pandas.pydata.org/pandas-docs/stable/user_guide/indexing.html#returning-a-view-versus-a-copy\n",
      "  seq_df.interpolate(method='linear', inplace=True)\n"
     ]
    },
    {
     "name": "stdout",
     "output_type": "stream",
     "text": [
      "Processing: 16 - Behavior: 7 - test_df_len: 122\n"
     ]
    },
    {
     "name": "stderr",
     "output_type": "stream",
     "text": [
      "/tmp/ipykernel_1065930/2682057481.py:66: SettingWithCopyWarning: \n",
      "A value is trying to be set on a copy of a slice from a DataFrame\n",
      "\n",
      "See the caveats in the documentation: https://pandas.pydata.org/pandas-docs/stable/user_guide/indexing.html#returning-a-view-versus-a-copy\n",
      "  seq_df.loc[(seq_df[cols] < Q1 - 1.5 * IQR) | (seq_df[cols] > Q3 + 1.5 * IQR), cols] = np.nan\n",
      "/tmp/ipykernel_1065930/2682057481.py:67: SettingWithCopyWarning: \n",
      "A value is trying to be set on a copy of a slice from a DataFrame\n",
      "\n",
      "See the caveats in the documentation: https://pandas.pydata.org/pandas-docs/stable/user_guide/indexing.html#returning-a-view-versus-a-copy\n",
      "  seq_df.interpolate(method='linear', inplace=True)\n"
     ]
    },
    {
     "name": "stdout",
     "output_type": "stream",
     "text": [
      "Processing: 16 - Behavior: 7 - test_df_len: 122\n"
     ]
    },
    {
     "name": "stderr",
     "output_type": "stream",
     "text": [
      "/tmp/ipykernel_1065930/2682057481.py:66: SettingWithCopyWarning: \n",
      "A value is trying to be set on a copy of a slice from a DataFrame\n",
      "\n",
      "See the caveats in the documentation: https://pandas.pydata.org/pandas-docs/stable/user_guide/indexing.html#returning-a-view-versus-a-copy\n",
      "  seq_df.loc[(seq_df[cols] < Q1 - 1.5 * IQR) | (seq_df[cols] > Q3 + 1.5 * IQR), cols] = np.nan\n",
      "/tmp/ipykernel_1065930/2682057481.py:67: SettingWithCopyWarning: \n",
      "A value is trying to be set on a copy of a slice from a DataFrame\n",
      "\n",
      "See the caveats in the documentation: https://pandas.pydata.org/pandas-docs/stable/user_guide/indexing.html#returning-a-view-versus-a-copy\n",
      "  seq_df.interpolate(method='linear', inplace=True)\n"
     ]
    },
    {
     "name": "stdout",
     "output_type": "stream",
     "text": [
      "Processing: 16 - Behavior: 7 - test_df_len: 122\n"
     ]
    },
    {
     "name": "stderr",
     "output_type": "stream",
     "text": [
      "/tmp/ipykernel_1065930/2682057481.py:66: SettingWithCopyWarning: \n",
      "A value is trying to be set on a copy of a slice from a DataFrame\n",
      "\n",
      "See the caveats in the documentation: https://pandas.pydata.org/pandas-docs/stable/user_guide/indexing.html#returning-a-view-versus-a-copy\n",
      "  seq_df.loc[(seq_df[cols] < Q1 - 1.5 * IQR) | (seq_df[cols] > Q3 + 1.5 * IQR), cols] = np.nan\n",
      "/tmp/ipykernel_1065930/2682057481.py:67: SettingWithCopyWarning: \n",
      "A value is trying to be set on a copy of a slice from a DataFrame\n",
      "\n",
      "See the caveats in the documentation: https://pandas.pydata.org/pandas-docs/stable/user_guide/indexing.html#returning-a-view-versus-a-copy\n",
      "  seq_df.interpolate(method='linear', inplace=True)\n"
     ]
    },
    {
     "name": "stdout",
     "output_type": "stream",
     "text": [
      "Processing: 16 - Behavior: 7 - test_df_len: 122\n"
     ]
    },
    {
     "name": "stderr",
     "output_type": "stream",
     "text": [
      "/tmp/ipykernel_1065930/2682057481.py:66: SettingWithCopyWarning: \n",
      "A value is trying to be set on a copy of a slice from a DataFrame\n",
      "\n",
      "See the caveats in the documentation: https://pandas.pydata.org/pandas-docs/stable/user_guide/indexing.html#returning-a-view-versus-a-copy\n",
      "  seq_df.loc[(seq_df[cols] < Q1 - 1.5 * IQR) | (seq_df[cols] > Q3 + 1.5 * IQR), cols] = np.nan\n",
      "/tmp/ipykernel_1065930/2682057481.py:67: SettingWithCopyWarning: \n",
      "A value is trying to be set on a copy of a slice from a DataFrame\n",
      "\n",
      "See the caveats in the documentation: https://pandas.pydata.org/pandas-docs/stable/user_guide/indexing.html#returning-a-view-versus-a-copy\n",
      "  seq_df.interpolate(method='linear', inplace=True)\n"
     ]
    },
    {
     "name": "stdout",
     "output_type": "stream",
     "text": [
      "Processing: 16 - Behavior: 7 - test_df_len: 122\n"
     ]
    },
    {
     "name": "stderr",
     "output_type": "stream",
     "text": [
      "/tmp/ipykernel_1065930/2682057481.py:66: SettingWithCopyWarning: \n",
      "A value is trying to be set on a copy of a slice from a DataFrame\n",
      "\n",
      "See the caveats in the documentation: https://pandas.pydata.org/pandas-docs/stable/user_guide/indexing.html#returning-a-view-versus-a-copy\n",
      "  seq_df.loc[(seq_df[cols] < Q1 - 1.5 * IQR) | (seq_df[cols] > Q3 + 1.5 * IQR), cols] = np.nan\n",
      "/tmp/ipykernel_1065930/2682057481.py:67: SettingWithCopyWarning: \n",
      "A value is trying to be set on a copy of a slice from a DataFrame\n",
      "\n",
      "See the caveats in the documentation: https://pandas.pydata.org/pandas-docs/stable/user_guide/indexing.html#returning-a-view-versus-a-copy\n",
      "  seq_df.interpolate(method='linear', inplace=True)\n"
     ]
    },
    {
     "name": "stdout",
     "output_type": "stream",
     "text": [
      "Processing: 16 - Behavior: 1 - test_df_len: 122\n"
     ]
    },
    {
     "name": "stderr",
     "output_type": "stream",
     "text": [
      "/tmp/ipykernel_1065930/2682057481.py:66: SettingWithCopyWarning: \n",
      "A value is trying to be set on a copy of a slice from a DataFrame\n",
      "\n",
      "See the caveats in the documentation: https://pandas.pydata.org/pandas-docs/stable/user_guide/indexing.html#returning-a-view-versus-a-copy\n",
      "  seq_df.loc[(seq_df[cols] < Q1 - 1.5 * IQR) | (seq_df[cols] > Q3 + 1.5 * IQR), cols] = np.nan\n",
      "/tmp/ipykernel_1065930/2682057481.py:67: SettingWithCopyWarning: \n",
      "A value is trying to be set on a copy of a slice from a DataFrame\n",
      "\n",
      "See the caveats in the documentation: https://pandas.pydata.org/pandas-docs/stable/user_guide/indexing.html#returning-a-view-versus-a-copy\n",
      "  seq_df.interpolate(method='linear', inplace=True)\n"
     ]
    },
    {
     "name": "stdout",
     "output_type": "stream",
     "text": [
      "Processing: 16 - Behavior: 1 - test_df_len: 122\n"
     ]
    },
    {
     "name": "stderr",
     "output_type": "stream",
     "text": [
      "/tmp/ipykernel_1065930/2682057481.py:66: SettingWithCopyWarning: \n",
      "A value is trying to be set on a copy of a slice from a DataFrame\n",
      "\n",
      "See the caveats in the documentation: https://pandas.pydata.org/pandas-docs/stable/user_guide/indexing.html#returning-a-view-versus-a-copy\n",
      "  seq_df.loc[(seq_df[cols] < Q1 - 1.5 * IQR) | (seq_df[cols] > Q3 + 1.5 * IQR), cols] = np.nan\n",
      "/tmp/ipykernel_1065930/2682057481.py:67: SettingWithCopyWarning: \n",
      "A value is trying to be set on a copy of a slice from a DataFrame\n",
      "\n",
      "See the caveats in the documentation: https://pandas.pydata.org/pandas-docs/stable/user_guide/indexing.html#returning-a-view-versus-a-copy\n",
      "  seq_df.interpolate(method='linear', inplace=True)\n"
     ]
    },
    {
     "name": "stdout",
     "output_type": "stream",
     "text": [
      "Processing: 16 - Behavior: 1 - test_df_len: 122\n"
     ]
    },
    {
     "name": "stderr",
     "output_type": "stream",
     "text": [
      "/tmp/ipykernel_1065930/2682057481.py:66: SettingWithCopyWarning: \n",
      "A value is trying to be set on a copy of a slice from a DataFrame\n",
      "\n",
      "See the caveats in the documentation: https://pandas.pydata.org/pandas-docs/stable/user_guide/indexing.html#returning-a-view-versus-a-copy\n",
      "  seq_df.loc[(seq_df[cols] < Q1 - 1.5 * IQR) | (seq_df[cols] > Q3 + 1.5 * IQR), cols] = np.nan\n",
      "/tmp/ipykernel_1065930/2682057481.py:67: SettingWithCopyWarning: \n",
      "A value is trying to be set on a copy of a slice from a DataFrame\n",
      "\n",
      "See the caveats in the documentation: https://pandas.pydata.org/pandas-docs/stable/user_guide/indexing.html#returning-a-view-versus-a-copy\n",
      "  seq_df.interpolate(method='linear', inplace=True)\n"
     ]
    },
    {
     "name": "stdout",
     "output_type": "stream",
     "text": [
      "Processing: 16 - Behavior: 1 - test_df_len: 122\n"
     ]
    },
    {
     "name": "stderr",
     "output_type": "stream",
     "text": [
      "/tmp/ipykernel_1065930/2682057481.py:66: SettingWithCopyWarning: \n",
      "A value is trying to be set on a copy of a slice from a DataFrame\n",
      "\n",
      "See the caveats in the documentation: https://pandas.pydata.org/pandas-docs/stable/user_guide/indexing.html#returning-a-view-versus-a-copy\n",
      "  seq_df.loc[(seq_df[cols] < Q1 - 1.5 * IQR) | (seq_df[cols] > Q3 + 1.5 * IQR), cols] = np.nan\n",
      "/tmp/ipykernel_1065930/2682057481.py:67: SettingWithCopyWarning: \n",
      "A value is trying to be set on a copy of a slice from a DataFrame\n",
      "\n",
      "See the caveats in the documentation: https://pandas.pydata.org/pandas-docs/stable/user_guide/indexing.html#returning-a-view-versus-a-copy\n",
      "  seq_df.interpolate(method='linear', inplace=True)\n"
     ]
    },
    {
     "name": "stdout",
     "output_type": "stream",
     "text": [
      "Processing: 16 - Behavior: 1 - test_df_len: 122\n"
     ]
    },
    {
     "name": "stderr",
     "output_type": "stream",
     "text": [
      "/tmp/ipykernel_1065930/2682057481.py:66: SettingWithCopyWarning: \n",
      "A value is trying to be set on a copy of a slice from a DataFrame\n",
      "\n",
      "See the caveats in the documentation: https://pandas.pydata.org/pandas-docs/stable/user_guide/indexing.html#returning-a-view-versus-a-copy\n",
      "  seq_df.loc[(seq_df[cols] < Q1 - 1.5 * IQR) | (seq_df[cols] > Q3 + 1.5 * IQR), cols] = np.nan\n",
      "/tmp/ipykernel_1065930/2682057481.py:67: SettingWithCopyWarning: \n",
      "A value is trying to be set on a copy of a slice from a DataFrame\n",
      "\n",
      "See the caveats in the documentation: https://pandas.pydata.org/pandas-docs/stable/user_guide/indexing.html#returning-a-view-versus-a-copy\n",
      "  seq_df.interpolate(method='linear', inplace=True)\n"
     ]
    },
    {
     "name": "stdout",
     "output_type": "stream",
     "text": [
      "Processing: 16 - Behavior: 1 - test_df_len: 122\n"
     ]
    },
    {
     "name": "stderr",
     "output_type": "stream",
     "text": [
      "/tmp/ipykernel_1065930/2682057481.py:66: SettingWithCopyWarning: \n",
      "A value is trying to be set on a copy of a slice from a DataFrame\n",
      "\n",
      "See the caveats in the documentation: https://pandas.pydata.org/pandas-docs/stable/user_guide/indexing.html#returning-a-view-versus-a-copy\n",
      "  seq_df.loc[(seq_df[cols] < Q1 - 1.5 * IQR) | (seq_df[cols] > Q3 + 1.5 * IQR), cols] = np.nan\n",
      "/tmp/ipykernel_1065930/2682057481.py:67: SettingWithCopyWarning: \n",
      "A value is trying to be set on a copy of a slice from a DataFrame\n",
      "\n",
      "See the caveats in the documentation: https://pandas.pydata.org/pandas-docs/stable/user_guide/indexing.html#returning-a-view-versus-a-copy\n",
      "  seq_df.interpolate(method='linear', inplace=True)\n"
     ]
    },
    {
     "name": "stdout",
     "output_type": "stream",
     "text": [
      "Processing: 16 - Behavior: 2 - test_df_len: 117\n"
     ]
    },
    {
     "name": "stderr",
     "output_type": "stream",
     "text": [
      "/tmp/ipykernel_1065930/2682057481.py:66: SettingWithCopyWarning: \n",
      "A value is trying to be set on a copy of a slice from a DataFrame\n",
      "\n",
      "See the caveats in the documentation: https://pandas.pydata.org/pandas-docs/stable/user_guide/indexing.html#returning-a-view-versus-a-copy\n",
      "  seq_df.loc[(seq_df[cols] < Q1 - 1.5 * IQR) | (seq_df[cols] > Q3 + 1.5 * IQR), cols] = np.nan\n",
      "/tmp/ipykernel_1065930/2682057481.py:67: SettingWithCopyWarning: \n",
      "A value is trying to be set on a copy of a slice from a DataFrame\n",
      "\n",
      "See the caveats in the documentation: https://pandas.pydata.org/pandas-docs/stable/user_guide/indexing.html#returning-a-view-versus-a-copy\n",
      "  seq_df.interpolate(method='linear', inplace=True)\n"
     ]
    },
    {
     "name": "stdout",
     "output_type": "stream",
     "text": [
      "Processing: 16 - Behavior: 2 - test_df_len: 117\n"
     ]
    },
    {
     "name": "stderr",
     "output_type": "stream",
     "text": [
      "/tmp/ipykernel_1065930/2682057481.py:66: SettingWithCopyWarning: \n",
      "A value is trying to be set on a copy of a slice from a DataFrame\n",
      "\n",
      "See the caveats in the documentation: https://pandas.pydata.org/pandas-docs/stable/user_guide/indexing.html#returning-a-view-versus-a-copy\n",
      "  seq_df.loc[(seq_df[cols] < Q1 - 1.5 * IQR) | (seq_df[cols] > Q3 + 1.5 * IQR), cols] = np.nan\n",
      "/tmp/ipykernel_1065930/2682057481.py:67: SettingWithCopyWarning: \n",
      "A value is trying to be set on a copy of a slice from a DataFrame\n",
      "\n",
      "See the caveats in the documentation: https://pandas.pydata.org/pandas-docs/stable/user_guide/indexing.html#returning-a-view-versus-a-copy\n",
      "  seq_df.interpolate(method='linear', inplace=True)\n"
     ]
    },
    {
     "name": "stdout",
     "output_type": "stream",
     "text": [
      "Processing: 16 - Behavior: 2 - test_df_len: 117\n"
     ]
    },
    {
     "name": "stderr",
     "output_type": "stream",
     "text": [
      "/tmp/ipykernel_1065930/2682057481.py:66: SettingWithCopyWarning: \n",
      "A value is trying to be set on a copy of a slice from a DataFrame\n",
      "\n",
      "See the caveats in the documentation: https://pandas.pydata.org/pandas-docs/stable/user_guide/indexing.html#returning-a-view-versus-a-copy\n",
      "  seq_df.loc[(seq_df[cols] < Q1 - 1.5 * IQR) | (seq_df[cols] > Q3 + 1.5 * IQR), cols] = np.nan\n",
      "/tmp/ipykernel_1065930/2682057481.py:67: SettingWithCopyWarning: \n",
      "A value is trying to be set on a copy of a slice from a DataFrame\n",
      "\n",
      "See the caveats in the documentation: https://pandas.pydata.org/pandas-docs/stable/user_guide/indexing.html#returning-a-view-versus-a-copy\n",
      "  seq_df.interpolate(method='linear', inplace=True)\n"
     ]
    },
    {
     "name": "stdout",
     "output_type": "stream",
     "text": [
      "Processing: 16 - Behavior: 2 - test_df_len: 117\n"
     ]
    },
    {
     "name": "stderr",
     "output_type": "stream",
     "text": [
      "/tmp/ipykernel_1065930/2682057481.py:66: SettingWithCopyWarning: \n",
      "A value is trying to be set on a copy of a slice from a DataFrame\n",
      "\n",
      "See the caveats in the documentation: https://pandas.pydata.org/pandas-docs/stable/user_guide/indexing.html#returning-a-view-versus-a-copy\n",
      "  seq_df.loc[(seq_df[cols] < Q1 - 1.5 * IQR) | (seq_df[cols] > Q3 + 1.5 * IQR), cols] = np.nan\n",
      "/tmp/ipykernel_1065930/2682057481.py:67: SettingWithCopyWarning: \n",
      "A value is trying to be set on a copy of a slice from a DataFrame\n",
      "\n",
      "See the caveats in the documentation: https://pandas.pydata.org/pandas-docs/stable/user_guide/indexing.html#returning-a-view-versus-a-copy\n",
      "  seq_df.interpolate(method='linear', inplace=True)\n"
     ]
    },
    {
     "name": "stdout",
     "output_type": "stream",
     "text": [
      "Processing: 16 - Behavior: 2 - test_df_len: 117\n"
     ]
    },
    {
     "name": "stderr",
     "output_type": "stream",
     "text": [
      "/tmp/ipykernel_1065930/2682057481.py:66: SettingWithCopyWarning: \n",
      "A value is trying to be set on a copy of a slice from a DataFrame\n",
      "\n",
      "See the caveats in the documentation: https://pandas.pydata.org/pandas-docs/stable/user_guide/indexing.html#returning-a-view-versus-a-copy\n",
      "  seq_df.loc[(seq_df[cols] < Q1 - 1.5 * IQR) | (seq_df[cols] > Q3 + 1.5 * IQR), cols] = np.nan\n",
      "/tmp/ipykernel_1065930/2682057481.py:67: SettingWithCopyWarning: \n",
      "A value is trying to be set on a copy of a slice from a DataFrame\n",
      "\n",
      "See the caveats in the documentation: https://pandas.pydata.org/pandas-docs/stable/user_guide/indexing.html#returning-a-view-versus-a-copy\n",
      "  seq_df.interpolate(method='linear', inplace=True)\n"
     ]
    },
    {
     "name": "stdout",
     "output_type": "stream",
     "text": [
      "Processing: 16 - Behavior: 2 - test_df_len: 117\n"
     ]
    },
    {
     "name": "stderr",
     "output_type": "stream",
     "text": [
      "/tmp/ipykernel_1065930/2682057481.py:66: SettingWithCopyWarning: \n",
      "A value is trying to be set on a copy of a slice from a DataFrame\n",
      "\n",
      "See the caveats in the documentation: https://pandas.pydata.org/pandas-docs/stable/user_guide/indexing.html#returning-a-view-versus-a-copy\n",
      "  seq_df.loc[(seq_df[cols] < Q1 - 1.5 * IQR) | (seq_df[cols] > Q3 + 1.5 * IQR), cols] = np.nan\n",
      "/tmp/ipykernel_1065930/2682057481.py:67: SettingWithCopyWarning: \n",
      "A value is trying to be set on a copy of a slice from a DataFrame\n",
      "\n",
      "See the caveats in the documentation: https://pandas.pydata.org/pandas-docs/stable/user_guide/indexing.html#returning-a-view-versus-a-copy\n",
      "  seq_df.interpolate(method='linear', inplace=True)\n"
     ]
    },
    {
     "name": "stdout",
     "output_type": "stream",
     "text": [
      "Processing: 16 - Behavior: 6 - test_df_len: 123\n"
     ]
    },
    {
     "name": "stderr",
     "output_type": "stream",
     "text": [
      "/tmp/ipykernel_1065930/2682057481.py:66: SettingWithCopyWarning: \n",
      "A value is trying to be set on a copy of a slice from a DataFrame\n",
      "\n",
      "See the caveats in the documentation: https://pandas.pydata.org/pandas-docs/stable/user_guide/indexing.html#returning-a-view-versus-a-copy\n",
      "  seq_df.loc[(seq_df[cols] < Q1 - 1.5 * IQR) | (seq_df[cols] > Q3 + 1.5 * IQR), cols] = np.nan\n",
      "/tmp/ipykernel_1065930/2682057481.py:67: SettingWithCopyWarning: \n",
      "A value is trying to be set on a copy of a slice from a DataFrame\n",
      "\n",
      "See the caveats in the documentation: https://pandas.pydata.org/pandas-docs/stable/user_guide/indexing.html#returning-a-view-versus-a-copy\n",
      "  seq_df.interpolate(method='linear', inplace=True)\n"
     ]
    },
    {
     "name": "stdout",
     "output_type": "stream",
     "text": [
      "Processing: 16 - Behavior: 6 - test_df_len: 123\n"
     ]
    },
    {
     "name": "stderr",
     "output_type": "stream",
     "text": [
      "/tmp/ipykernel_1065930/2682057481.py:66: SettingWithCopyWarning: \n",
      "A value is trying to be set on a copy of a slice from a DataFrame\n",
      "\n",
      "See the caveats in the documentation: https://pandas.pydata.org/pandas-docs/stable/user_guide/indexing.html#returning-a-view-versus-a-copy\n",
      "  seq_df.loc[(seq_df[cols] < Q1 - 1.5 * IQR) | (seq_df[cols] > Q3 + 1.5 * IQR), cols] = np.nan\n",
      "/tmp/ipykernel_1065930/2682057481.py:67: SettingWithCopyWarning: \n",
      "A value is trying to be set on a copy of a slice from a DataFrame\n",
      "\n",
      "See the caveats in the documentation: https://pandas.pydata.org/pandas-docs/stable/user_guide/indexing.html#returning-a-view-versus-a-copy\n",
      "  seq_df.interpolate(method='linear', inplace=True)\n"
     ]
    },
    {
     "name": "stdout",
     "output_type": "stream",
     "text": [
      "Processing: 16 - Behavior: 6 - test_df_len: 123\n"
     ]
    },
    {
     "name": "stderr",
     "output_type": "stream",
     "text": [
      "/tmp/ipykernel_1065930/2682057481.py:66: SettingWithCopyWarning: \n",
      "A value is trying to be set on a copy of a slice from a DataFrame\n",
      "\n",
      "See the caveats in the documentation: https://pandas.pydata.org/pandas-docs/stable/user_guide/indexing.html#returning-a-view-versus-a-copy\n",
      "  seq_df.loc[(seq_df[cols] < Q1 - 1.5 * IQR) | (seq_df[cols] > Q3 + 1.5 * IQR), cols] = np.nan\n",
      "/tmp/ipykernel_1065930/2682057481.py:67: SettingWithCopyWarning: \n",
      "A value is trying to be set on a copy of a slice from a DataFrame\n",
      "\n",
      "See the caveats in the documentation: https://pandas.pydata.org/pandas-docs/stable/user_guide/indexing.html#returning-a-view-versus-a-copy\n",
      "  seq_df.interpolate(method='linear', inplace=True)\n"
     ]
    },
    {
     "name": "stdout",
     "output_type": "stream",
     "text": [
      "Processing: 16 - Behavior: 6 - test_df_len: 123\n"
     ]
    },
    {
     "name": "stderr",
     "output_type": "stream",
     "text": [
      "/tmp/ipykernel_1065930/2682057481.py:66: SettingWithCopyWarning: \n",
      "A value is trying to be set on a copy of a slice from a DataFrame\n",
      "\n",
      "See the caveats in the documentation: https://pandas.pydata.org/pandas-docs/stable/user_guide/indexing.html#returning-a-view-versus-a-copy\n",
      "  seq_df.loc[(seq_df[cols] < Q1 - 1.5 * IQR) | (seq_df[cols] > Q3 + 1.5 * IQR), cols] = np.nan\n",
      "/tmp/ipykernel_1065930/2682057481.py:67: SettingWithCopyWarning: \n",
      "A value is trying to be set on a copy of a slice from a DataFrame\n",
      "\n",
      "See the caveats in the documentation: https://pandas.pydata.org/pandas-docs/stable/user_guide/indexing.html#returning-a-view-versus-a-copy\n",
      "  seq_df.interpolate(method='linear', inplace=True)\n"
     ]
    },
    {
     "name": "stdout",
     "output_type": "stream",
     "text": [
      "Processing: 16 - Behavior: 6 - test_df_len: 123\n"
     ]
    },
    {
     "name": "stderr",
     "output_type": "stream",
     "text": [
      "/tmp/ipykernel_1065930/2682057481.py:66: SettingWithCopyWarning: \n",
      "A value is trying to be set on a copy of a slice from a DataFrame\n",
      "\n",
      "See the caveats in the documentation: https://pandas.pydata.org/pandas-docs/stable/user_guide/indexing.html#returning-a-view-versus-a-copy\n",
      "  seq_df.loc[(seq_df[cols] < Q1 - 1.5 * IQR) | (seq_df[cols] > Q3 + 1.5 * IQR), cols] = np.nan\n",
      "/tmp/ipykernel_1065930/2682057481.py:67: SettingWithCopyWarning: \n",
      "A value is trying to be set on a copy of a slice from a DataFrame\n",
      "\n",
      "See the caveats in the documentation: https://pandas.pydata.org/pandas-docs/stable/user_guide/indexing.html#returning-a-view-versus-a-copy\n",
      "  seq_df.interpolate(method='linear', inplace=True)\n"
     ]
    },
    {
     "name": "stdout",
     "output_type": "stream",
     "text": [
      "Processing: 16 - Behavior: 6 - test_df_len: 123\n"
     ]
    },
    {
     "name": "stderr",
     "output_type": "stream",
     "text": [
      "/tmp/ipykernel_1065930/2682057481.py:66: SettingWithCopyWarning: \n",
      "A value is trying to be set on a copy of a slice from a DataFrame\n",
      "\n",
      "See the caveats in the documentation: https://pandas.pydata.org/pandas-docs/stable/user_guide/indexing.html#returning-a-view-versus-a-copy\n",
      "  seq_df.loc[(seq_df[cols] < Q1 - 1.5 * IQR) | (seq_df[cols] > Q3 + 1.5 * IQR), cols] = np.nan\n",
      "/tmp/ipykernel_1065930/2682057481.py:67: SettingWithCopyWarning: \n",
      "A value is trying to be set on a copy of a slice from a DataFrame\n",
      "\n",
      "See the caveats in the documentation: https://pandas.pydata.org/pandas-docs/stable/user_guide/indexing.html#returning-a-view-versus-a-copy\n",
      "  seq_df.interpolate(method='linear', inplace=True)\n"
     ]
    },
    {
     "name": "stdout",
     "output_type": "stream",
     "text": [
      "Processing: 16 - Behavior: 8 - test_df_len: 123\n"
     ]
    },
    {
     "name": "stderr",
     "output_type": "stream",
     "text": [
      "/tmp/ipykernel_1065930/2682057481.py:66: SettingWithCopyWarning: \n",
      "A value is trying to be set on a copy of a slice from a DataFrame\n",
      "\n",
      "See the caveats in the documentation: https://pandas.pydata.org/pandas-docs/stable/user_guide/indexing.html#returning-a-view-versus-a-copy\n",
      "  seq_df.loc[(seq_df[cols] < Q1 - 1.5 * IQR) | (seq_df[cols] > Q3 + 1.5 * IQR), cols] = np.nan\n",
      "/tmp/ipykernel_1065930/2682057481.py:67: SettingWithCopyWarning: \n",
      "A value is trying to be set on a copy of a slice from a DataFrame\n",
      "\n",
      "See the caveats in the documentation: https://pandas.pydata.org/pandas-docs/stable/user_guide/indexing.html#returning-a-view-versus-a-copy\n",
      "  seq_df.interpolate(method='linear', inplace=True)\n"
     ]
    },
    {
     "name": "stdout",
     "output_type": "stream",
     "text": [
      "Processing: 16 - Behavior: 8 - test_df_len: 123\n"
     ]
    },
    {
     "name": "stderr",
     "output_type": "stream",
     "text": [
      "/tmp/ipykernel_1065930/2682057481.py:66: SettingWithCopyWarning: \n",
      "A value is trying to be set on a copy of a slice from a DataFrame\n",
      "\n",
      "See the caveats in the documentation: https://pandas.pydata.org/pandas-docs/stable/user_guide/indexing.html#returning-a-view-versus-a-copy\n",
      "  seq_df.loc[(seq_df[cols] < Q1 - 1.5 * IQR) | (seq_df[cols] > Q3 + 1.5 * IQR), cols] = np.nan\n",
      "/tmp/ipykernel_1065930/2682057481.py:67: SettingWithCopyWarning: \n",
      "A value is trying to be set on a copy of a slice from a DataFrame\n",
      "\n",
      "See the caveats in the documentation: https://pandas.pydata.org/pandas-docs/stable/user_guide/indexing.html#returning-a-view-versus-a-copy\n",
      "  seq_df.interpolate(method='linear', inplace=True)\n"
     ]
    },
    {
     "name": "stdout",
     "output_type": "stream",
     "text": [
      "Processing: 16 - Behavior: 8 - test_df_len: 123\n"
     ]
    },
    {
     "name": "stderr",
     "output_type": "stream",
     "text": [
      "/tmp/ipykernel_1065930/2682057481.py:66: SettingWithCopyWarning: \n",
      "A value is trying to be set on a copy of a slice from a DataFrame\n",
      "\n",
      "See the caveats in the documentation: https://pandas.pydata.org/pandas-docs/stable/user_guide/indexing.html#returning-a-view-versus-a-copy\n",
      "  seq_df.loc[(seq_df[cols] < Q1 - 1.5 * IQR) | (seq_df[cols] > Q3 + 1.5 * IQR), cols] = np.nan\n",
      "/tmp/ipykernel_1065930/2682057481.py:67: SettingWithCopyWarning: \n",
      "A value is trying to be set on a copy of a slice from a DataFrame\n",
      "\n",
      "See the caveats in the documentation: https://pandas.pydata.org/pandas-docs/stable/user_guide/indexing.html#returning-a-view-versus-a-copy\n",
      "  seq_df.interpolate(method='linear', inplace=True)\n"
     ]
    },
    {
     "name": "stdout",
     "output_type": "stream",
     "text": [
      "Processing: 16 - Behavior: 8 - test_df_len: 123\n"
     ]
    },
    {
     "name": "stderr",
     "output_type": "stream",
     "text": [
      "/tmp/ipykernel_1065930/2682057481.py:66: SettingWithCopyWarning: \n",
      "A value is trying to be set on a copy of a slice from a DataFrame\n",
      "\n",
      "See the caveats in the documentation: https://pandas.pydata.org/pandas-docs/stable/user_guide/indexing.html#returning-a-view-versus-a-copy\n",
      "  seq_df.loc[(seq_df[cols] < Q1 - 1.5 * IQR) | (seq_df[cols] > Q3 + 1.5 * IQR), cols] = np.nan\n",
      "/tmp/ipykernel_1065930/2682057481.py:67: SettingWithCopyWarning: \n",
      "A value is trying to be set on a copy of a slice from a DataFrame\n",
      "\n",
      "See the caveats in the documentation: https://pandas.pydata.org/pandas-docs/stable/user_guide/indexing.html#returning-a-view-versus-a-copy\n",
      "  seq_df.interpolate(method='linear', inplace=True)\n"
     ]
    },
    {
     "name": "stdout",
     "output_type": "stream",
     "text": [
      "Processing: 16 - Behavior: 8 - test_df_len: 123\n"
     ]
    },
    {
     "name": "stderr",
     "output_type": "stream",
     "text": [
      "/tmp/ipykernel_1065930/2682057481.py:66: SettingWithCopyWarning: \n",
      "A value is trying to be set on a copy of a slice from a DataFrame\n",
      "\n",
      "See the caveats in the documentation: https://pandas.pydata.org/pandas-docs/stable/user_guide/indexing.html#returning-a-view-versus-a-copy\n",
      "  seq_df.loc[(seq_df[cols] < Q1 - 1.5 * IQR) | (seq_df[cols] > Q3 + 1.5 * IQR), cols] = np.nan\n",
      "/tmp/ipykernel_1065930/2682057481.py:67: SettingWithCopyWarning: \n",
      "A value is trying to be set on a copy of a slice from a DataFrame\n",
      "\n",
      "See the caveats in the documentation: https://pandas.pydata.org/pandas-docs/stable/user_guide/indexing.html#returning-a-view-versus-a-copy\n",
      "  seq_df.interpolate(method='linear', inplace=True)\n"
     ]
    },
    {
     "name": "stdout",
     "output_type": "stream",
     "text": [
      "Processing: 16 - Behavior: 8 - test_df_len: 123\n"
     ]
    },
    {
     "name": "stderr",
     "output_type": "stream",
     "text": [
      "/tmp/ipykernel_1065930/2682057481.py:66: SettingWithCopyWarning: \n",
      "A value is trying to be set on a copy of a slice from a DataFrame\n",
      "\n",
      "See the caveats in the documentation: https://pandas.pydata.org/pandas-docs/stable/user_guide/indexing.html#returning-a-view-versus-a-copy\n",
      "  seq_df.loc[(seq_df[cols] < Q1 - 1.5 * IQR) | (seq_df[cols] > Q3 + 1.5 * IQR), cols] = np.nan\n",
      "/tmp/ipykernel_1065930/2682057481.py:67: SettingWithCopyWarning: \n",
      "A value is trying to be set on a copy of a slice from a DataFrame\n",
      "\n",
      "See the caveats in the documentation: https://pandas.pydata.org/pandas-docs/stable/user_guide/indexing.html#returning-a-view-versus-a-copy\n",
      "  seq_df.interpolate(method='linear', inplace=True)\n"
     ]
    },
    {
     "name": "stdout",
     "output_type": "stream",
     "text": [
      "Processing: 16 - Behavior: 5 - test_df_len: 125\n"
     ]
    },
    {
     "name": "stderr",
     "output_type": "stream",
     "text": [
      "/tmp/ipykernel_1065930/2682057481.py:66: SettingWithCopyWarning: \n",
      "A value is trying to be set on a copy of a slice from a DataFrame\n",
      "\n",
      "See the caveats in the documentation: https://pandas.pydata.org/pandas-docs/stable/user_guide/indexing.html#returning-a-view-versus-a-copy\n",
      "  seq_df.loc[(seq_df[cols] < Q1 - 1.5 * IQR) | (seq_df[cols] > Q3 + 1.5 * IQR), cols] = np.nan\n",
      "/tmp/ipykernel_1065930/2682057481.py:67: SettingWithCopyWarning: \n",
      "A value is trying to be set on a copy of a slice from a DataFrame\n",
      "\n",
      "See the caveats in the documentation: https://pandas.pydata.org/pandas-docs/stable/user_guide/indexing.html#returning-a-view-versus-a-copy\n",
      "  seq_df.interpolate(method='linear', inplace=True)\n"
     ]
    },
    {
     "name": "stdout",
     "output_type": "stream",
     "text": [
      "Processing: 16 - Behavior: 5 - test_df_len: 125\n"
     ]
    },
    {
     "name": "stderr",
     "output_type": "stream",
     "text": [
      "/tmp/ipykernel_1065930/2682057481.py:66: SettingWithCopyWarning: \n",
      "A value is trying to be set on a copy of a slice from a DataFrame\n",
      "\n",
      "See the caveats in the documentation: https://pandas.pydata.org/pandas-docs/stable/user_guide/indexing.html#returning-a-view-versus-a-copy\n",
      "  seq_df.loc[(seq_df[cols] < Q1 - 1.5 * IQR) | (seq_df[cols] > Q3 + 1.5 * IQR), cols] = np.nan\n",
      "/tmp/ipykernel_1065930/2682057481.py:67: SettingWithCopyWarning: \n",
      "A value is trying to be set on a copy of a slice from a DataFrame\n",
      "\n",
      "See the caveats in the documentation: https://pandas.pydata.org/pandas-docs/stable/user_guide/indexing.html#returning-a-view-versus-a-copy\n",
      "  seq_df.interpolate(method='linear', inplace=True)\n"
     ]
    },
    {
     "name": "stdout",
     "output_type": "stream",
     "text": [
      "Processing: 16 - Behavior: 5 - test_df_len: 125\n"
     ]
    },
    {
     "name": "stderr",
     "output_type": "stream",
     "text": [
      "/tmp/ipykernel_1065930/2682057481.py:66: SettingWithCopyWarning: \n",
      "A value is trying to be set on a copy of a slice from a DataFrame\n",
      "\n",
      "See the caveats in the documentation: https://pandas.pydata.org/pandas-docs/stable/user_guide/indexing.html#returning-a-view-versus-a-copy\n",
      "  seq_df.loc[(seq_df[cols] < Q1 - 1.5 * IQR) | (seq_df[cols] > Q3 + 1.5 * IQR), cols] = np.nan\n",
      "/tmp/ipykernel_1065930/2682057481.py:67: SettingWithCopyWarning: \n",
      "A value is trying to be set on a copy of a slice from a DataFrame\n",
      "\n",
      "See the caveats in the documentation: https://pandas.pydata.org/pandas-docs/stable/user_guide/indexing.html#returning-a-view-versus-a-copy\n",
      "  seq_df.interpolate(method='linear', inplace=True)\n"
     ]
    },
    {
     "name": "stdout",
     "output_type": "stream",
     "text": [
      "Processing: 16 - Behavior: 5 - test_df_len: 125\n"
     ]
    },
    {
     "name": "stderr",
     "output_type": "stream",
     "text": [
      "/tmp/ipykernel_1065930/2682057481.py:66: SettingWithCopyWarning: \n",
      "A value is trying to be set on a copy of a slice from a DataFrame\n",
      "\n",
      "See the caveats in the documentation: https://pandas.pydata.org/pandas-docs/stable/user_guide/indexing.html#returning-a-view-versus-a-copy\n",
      "  seq_df.loc[(seq_df[cols] < Q1 - 1.5 * IQR) | (seq_df[cols] > Q3 + 1.5 * IQR), cols] = np.nan\n",
      "/tmp/ipykernel_1065930/2682057481.py:67: SettingWithCopyWarning: \n",
      "A value is trying to be set on a copy of a slice from a DataFrame\n",
      "\n",
      "See the caveats in the documentation: https://pandas.pydata.org/pandas-docs/stable/user_guide/indexing.html#returning-a-view-versus-a-copy\n",
      "  seq_df.interpolate(method='linear', inplace=True)\n"
     ]
    },
    {
     "name": "stdout",
     "output_type": "stream",
     "text": [
      "Processing: 16 - Behavior: 5 - test_df_len: 125\n"
     ]
    },
    {
     "name": "stderr",
     "output_type": "stream",
     "text": [
      "/tmp/ipykernel_1065930/2682057481.py:66: SettingWithCopyWarning: \n",
      "A value is trying to be set on a copy of a slice from a DataFrame\n",
      "\n",
      "See the caveats in the documentation: https://pandas.pydata.org/pandas-docs/stable/user_guide/indexing.html#returning-a-view-versus-a-copy\n",
      "  seq_df.loc[(seq_df[cols] < Q1 - 1.5 * IQR) | (seq_df[cols] > Q3 + 1.5 * IQR), cols] = np.nan\n",
      "/tmp/ipykernel_1065930/2682057481.py:67: SettingWithCopyWarning: \n",
      "A value is trying to be set on a copy of a slice from a DataFrame\n",
      "\n",
      "See the caveats in the documentation: https://pandas.pydata.org/pandas-docs/stable/user_guide/indexing.html#returning-a-view-versus-a-copy\n",
      "  seq_df.interpolate(method='linear', inplace=True)\n"
     ]
    },
    {
     "name": "stdout",
     "output_type": "stream",
     "text": [
      "Processing: 16 - Behavior: 5 - test_df_len: 125\n"
     ]
    },
    {
     "name": "stderr",
     "output_type": "stream",
     "text": [
      "/tmp/ipykernel_1065930/2682057481.py:66: SettingWithCopyWarning: \n",
      "A value is trying to be set on a copy of a slice from a DataFrame\n",
      "\n",
      "See the caveats in the documentation: https://pandas.pydata.org/pandas-docs/stable/user_guide/indexing.html#returning-a-view-versus-a-copy\n",
      "  seq_df.loc[(seq_df[cols] < Q1 - 1.5 * IQR) | (seq_df[cols] > Q3 + 1.5 * IQR), cols] = np.nan\n",
      "/tmp/ipykernel_1065930/2682057481.py:67: SettingWithCopyWarning: \n",
      "A value is trying to be set on a copy of a slice from a DataFrame\n",
      "\n",
      "See the caveats in the documentation: https://pandas.pydata.org/pandas-docs/stable/user_guide/indexing.html#returning-a-view-versus-a-copy\n",
      "  seq_df.interpolate(method='linear', inplace=True)\n"
     ]
    },
    {
     "name": "stdout",
     "output_type": "stream",
     "text": [
      "Processing: 16 - Behavior: 3 - test_df_len: 123\n"
     ]
    },
    {
     "name": "stderr",
     "output_type": "stream",
     "text": [
      "/tmp/ipykernel_1065930/2682057481.py:66: SettingWithCopyWarning: \n",
      "A value is trying to be set on a copy of a slice from a DataFrame\n",
      "\n",
      "See the caveats in the documentation: https://pandas.pydata.org/pandas-docs/stable/user_guide/indexing.html#returning-a-view-versus-a-copy\n",
      "  seq_df.loc[(seq_df[cols] < Q1 - 1.5 * IQR) | (seq_df[cols] > Q3 + 1.5 * IQR), cols] = np.nan\n",
      "/tmp/ipykernel_1065930/2682057481.py:67: SettingWithCopyWarning: \n",
      "A value is trying to be set on a copy of a slice from a DataFrame\n",
      "\n",
      "See the caveats in the documentation: https://pandas.pydata.org/pandas-docs/stable/user_guide/indexing.html#returning-a-view-versus-a-copy\n",
      "  seq_df.interpolate(method='linear', inplace=True)\n"
     ]
    },
    {
     "name": "stdout",
     "output_type": "stream",
     "text": [
      "Processing: 16 - Behavior: 3 - test_df_len: 123\n"
     ]
    },
    {
     "name": "stderr",
     "output_type": "stream",
     "text": [
      "/tmp/ipykernel_1065930/2682057481.py:66: SettingWithCopyWarning: \n",
      "A value is trying to be set on a copy of a slice from a DataFrame\n",
      "\n",
      "See the caveats in the documentation: https://pandas.pydata.org/pandas-docs/stable/user_guide/indexing.html#returning-a-view-versus-a-copy\n",
      "  seq_df.loc[(seq_df[cols] < Q1 - 1.5 * IQR) | (seq_df[cols] > Q3 + 1.5 * IQR), cols] = np.nan\n",
      "/tmp/ipykernel_1065930/2682057481.py:67: SettingWithCopyWarning: \n",
      "A value is trying to be set on a copy of a slice from a DataFrame\n",
      "\n",
      "See the caveats in the documentation: https://pandas.pydata.org/pandas-docs/stable/user_guide/indexing.html#returning-a-view-versus-a-copy\n",
      "  seq_df.interpolate(method='linear', inplace=True)\n"
     ]
    },
    {
     "name": "stdout",
     "output_type": "stream",
     "text": [
      "Processing: 16 - Behavior: 3 - test_df_len: 123\n"
     ]
    },
    {
     "name": "stderr",
     "output_type": "stream",
     "text": [
      "/tmp/ipykernel_1065930/2682057481.py:66: SettingWithCopyWarning: \n",
      "A value is trying to be set on a copy of a slice from a DataFrame\n",
      "\n",
      "See the caveats in the documentation: https://pandas.pydata.org/pandas-docs/stable/user_guide/indexing.html#returning-a-view-versus-a-copy\n",
      "  seq_df.loc[(seq_df[cols] < Q1 - 1.5 * IQR) | (seq_df[cols] > Q3 + 1.5 * IQR), cols] = np.nan\n",
      "/tmp/ipykernel_1065930/2682057481.py:67: SettingWithCopyWarning: \n",
      "A value is trying to be set on a copy of a slice from a DataFrame\n",
      "\n",
      "See the caveats in the documentation: https://pandas.pydata.org/pandas-docs/stable/user_guide/indexing.html#returning-a-view-versus-a-copy\n",
      "  seq_df.interpolate(method='linear', inplace=True)\n"
     ]
    },
    {
     "name": "stdout",
     "output_type": "stream",
     "text": [
      "Processing: 16 - Behavior: 3 - test_df_len: 123\n"
     ]
    },
    {
     "name": "stderr",
     "output_type": "stream",
     "text": [
      "/tmp/ipykernel_1065930/2682057481.py:66: SettingWithCopyWarning: \n",
      "A value is trying to be set on a copy of a slice from a DataFrame\n",
      "\n",
      "See the caveats in the documentation: https://pandas.pydata.org/pandas-docs/stable/user_guide/indexing.html#returning-a-view-versus-a-copy\n",
      "  seq_df.loc[(seq_df[cols] < Q1 - 1.5 * IQR) | (seq_df[cols] > Q3 + 1.5 * IQR), cols] = np.nan\n",
      "/tmp/ipykernel_1065930/2682057481.py:67: SettingWithCopyWarning: \n",
      "A value is trying to be set on a copy of a slice from a DataFrame\n",
      "\n",
      "See the caveats in the documentation: https://pandas.pydata.org/pandas-docs/stable/user_guide/indexing.html#returning-a-view-versus-a-copy\n",
      "  seq_df.interpolate(method='linear', inplace=True)\n"
     ]
    },
    {
     "name": "stdout",
     "output_type": "stream",
     "text": [
      "Processing: 16 - Behavior: 3 - test_df_len: 123\n"
     ]
    },
    {
     "name": "stderr",
     "output_type": "stream",
     "text": [
      "/tmp/ipykernel_1065930/2682057481.py:66: SettingWithCopyWarning: \n",
      "A value is trying to be set on a copy of a slice from a DataFrame\n",
      "\n",
      "See the caveats in the documentation: https://pandas.pydata.org/pandas-docs/stable/user_guide/indexing.html#returning-a-view-versus-a-copy\n",
      "  seq_df.loc[(seq_df[cols] < Q1 - 1.5 * IQR) | (seq_df[cols] > Q3 + 1.5 * IQR), cols] = np.nan\n",
      "/tmp/ipykernel_1065930/2682057481.py:67: SettingWithCopyWarning: \n",
      "A value is trying to be set on a copy of a slice from a DataFrame\n",
      "\n",
      "See the caveats in the documentation: https://pandas.pydata.org/pandas-docs/stable/user_guide/indexing.html#returning-a-view-versus-a-copy\n",
      "  seq_df.interpolate(method='linear', inplace=True)\n"
     ]
    },
    {
     "name": "stdout",
     "output_type": "stream",
     "text": [
      "Processing: 16 - Behavior: 3 - test_df_len: 123\n",
      "After processing 16 - data_x sample count: 1704\n",
      "After processing 16 - data_y sample count: 1704\n",
      "After processing 18 - data_x sample count: 1704\n",
      "After processing 18 - data_y sample count: 1704\n",
      "After processing 19 - data_x sample count: 1704\n",
      "After processing 19 - data_y sample count: 1704\n",
      "After processing 20 - data_x sample count: 1704\n",
      "After processing 20 - data_y sample count: 1704\n",
      "After processing 21 - data_x sample count: 1704\n",
      "After processing 21 - data_y sample count: 1704\n",
      "After processing 22 - data_x sample count: 1704\n",
      "After processing 22 - data_y sample count: 1704\n",
      "After processing 23 - data_x sample count: 1704\n",
      "After processing 23 - data_y sample count: 1704\n",
      "After processing 25 - data_x sample count: 1704\n",
      "After processing 25 - data_y sample count: 1704\n",
      "After processing 26 - data_x sample count: 1704\n",
      "After processing 26 - data_y sample count: 1704\n",
      "After processing 27 - data_x sample count: 1704\n",
      "After processing 27 - data_y sample count: 1704\n",
      "After processing 28 - data_x sample count: 1704\n",
      "After processing 28 - data_y sample count: 1704\n",
      "After processing 29 - data_x sample count: 1704\n",
      "After processing 29 - data_y sample count: 1704\n",
      "After processing 30 - data_x sample count: 1704\n",
      "After processing 30 - data_y sample count: 1704\n",
      "After processing 33 - data_x sample count: 1704\n",
      "After processing 33 - data_y sample count: 1704\n",
      "After processing 34 - data_x sample count: 1704\n",
      "After processing 34 - data_y sample count: 1704\n",
      "After processing 36 - data_x sample count: 1704\n",
      "After processing 36 - data_y sample count: 1704\n",
      "After processing 39 - data_x sample count: 1704\n",
      "After processing 39 - data_y sample count: 1704\n",
      "After processing 41 - data_x sample count: 1704\n",
      "After processing 41 - data_y sample count: 1704\n",
      "After processing 43 - data_x sample count: 1704\n",
      "After processing 43 - data_y sample count: 1704\n",
      "After processing 44 - data_x sample count: 1704\n",
      "After processing 44 - data_y sample count: 1704\n",
      "After processing 45 - data_x sample count: 1704\n",
      "After processing 45 - data_y sample count: 1704\n",
      "After processing 46 - data_x sample count: 1704\n",
      "After processing 46 - data_y sample count: 1704\n",
      "After processing 47 - data_x sample count: 1704\n",
      "After processing 47 - data_y sample count: 1704\n",
      "After processing 48 - data_x sample count: 1704\n",
      "After processing 48 - data_y sample count: 1704\n",
      "After processing 49 - data_x sample count: 1704\n",
      "After processing 49 - data_y sample count: 1704\n",
      "After processing 51 - data_x sample count: 1704\n",
      "After processing 51 - data_y sample count: 1704\n",
      "After processing 52 - data_x sample count: 1704\n",
      "After processing 52 - data_y sample count: 1704\n",
      "After processing 53 - data_x sample count: 1704\n",
      "After processing 53 - data_y sample count: 1704\n",
      "After processing 54 - data_x sample count: 1704\n",
      "After processing 54 - data_y sample count: 1704\n",
      "After processing 55 - data_x sample count: 1704\n",
      "After processing 55 - data_y sample count: 1704\n",
      "After processing 56 - data_x sample count: 1704\n",
      "After processing 56 - data_y sample count: 1704\n",
      "After processing 57 - data_x sample count: 1704\n",
      "After processing 57 - data_y sample count: 1704\n",
      "After processing 58 - data_x sample count: 1704\n",
      "After processing 58 - data_y sample count: 1704\n",
      "After processing 59 - data_x sample count: 1704\n",
      "After processing 59 - data_y sample count: 1704\n",
      "After processing 60 - data_x sample count: 1704\n",
      "After processing 60 - data_y sample count: 1704\n",
      "After processing 61 - data_x sample count: 1704\n",
      "After processing 61 - data_y sample count: 1704\n",
      "After processing 63 - data_x sample count: 1704\n",
      "After processing 63 - data_y sample count: 1704\n",
      "After processing 65 - data_x sample count: 1704\n",
      "After processing 65 - data_y sample count: 1704\n",
      "After processing 66 - data_x sample count: 1704\n",
      "After processing 66 - data_y sample count: 1704\n",
      "After processing 67 - data_x sample count: 1704\n",
      "After processing 67 - data_y sample count: 1704\n",
      "After processing 68 - data_x sample count: 1704\n",
      "After processing 68 - data_y sample count: 1704\n",
      "After processing 70 - data_x sample count: 1704\n",
      "After processing 70 - data_y sample count: 1704\n",
      "After processing 72 - data_x sample count: 1704\n",
      "After processing 72 - data_y sample count: 1704\n",
      "After processing 73 - data_x sample count: 1704\n",
      "After processing 73 - data_y sample count: 1704\n",
      "After processing 74 - data_x sample count: 1704\n",
      "After processing 74 - data_y sample count: 1704\n"
     ]
    }
   ],
   "source": [
    "#1. 각 열의 이름을 가져와서 열 이름을 기반으로 새로운 빈 리스트를 동적으로 생성\n",
    "for col in range(len(data.columns)):\n",
    "    if col >= 2 and col <= 7:\n",
    "        col_name = data.columns[col]\n",
    "        globals()['{}_list'.format(col_name)] = []\n",
    "    elif col == 8:  # Pname\n",
    "        col_name = data.columns[col]\n",
    "        globals()['{}_list'.format(col_name)] = []\n",
    "        globals()['behavior_list'] = []\n",
    "\n",
    "unique_names = data['Pname'].unique()\n",
    "\n",
    "for name in unique_names:\n",
    "    name_data = data[data['Pname'] == name]\n",
    "    h_data = h_data[h_data['이름'] == name]\n",
    "\n",
    "\n",
    "#     count = 0\n",
    "\n",
    "    # 2. h_data의 일부 범위를 반복\n",
    "    for i in range(len(h_data)):\n",
    "        \n",
    "#         count += 1\n",
    "#         if count == 30:\n",
    "#             break\n",
    "\n",
    "        # 3. 해당 시간 범위와 '이름' 컬럼 값이 일치하는 label_data 추출\n",
    "        label_data = data[(data['Htime'] >= h_data['시작시간'].iloc[i]) & (\n",
    "                data['Htime'] <= h_data['종료시간'].iloc[i])]\n",
    "        label_data = label_data[label_data['Pname'] == h_data['이름'].iloc[i]]\n",
    "\n",
    "        # 4. label_data의 'behavior' 컬럼에 h_data의 'Class' 값을 할당\n",
    "        label_data['behavior'] = h_data['Class'].iloc[i]\n",
    "\n",
    "        if len(label_data) == 0:\n",
    "            continue\n",
    "\n",
    "        test_df_len = 0\n",
    "\n",
    "            # 5. label_data가 비어있지 않은 경우, 다음 작업을 수행\n",
    "        for cols in label_data.columns:  # ['Htime', 'Cnt', WD_Mac', 'Pname', 'behavior']\n",
    "            if cols == 'Cnt' or cols == 'Htime' or cols == 'Pname' or cols == 'behavior':\n",
    "                continue\n",
    "\n",
    "            # 최소 시작시간부터 최대시간까지 시간 리스트 만들기\n",
    "            datetime_list = pd.date_range(np.min(label_data['Htime']), np.max(label_data['Htime']), freq='20L')\n",
    "\n",
    "            # 시간을 인덱스로 빈 데이터 프레임 만들어서 해당 시간에 값 넣기\n",
    "            test_df = pd.DataFrame(index=datetime_list, columns=[cols])\n",
    "            for tdf in range(len(test_df)):\n",
    "                value = label_data[label_data['Htime'] == test_df.index[tdf]][cols]\n",
    "                test_df.iloc[tdf, 0] = value.iloc[0] if not value.empty else np.nan\n",
    "\n",
    "            # 결측치를 선형 보간법으로 처리 (Gyro_x, Gyro_y, Gyro_z, Acc_x, Acc_y, Acc_z) 및 50시퀀스 데이터 결합\n",
    "            if cols in ['Gyro_x', 'Gyro_y', 'Gyro_z', 'Acc_x', 'Acc_y', 'Acc_z']:\n",
    "                test_df[cols] = test_df[cols].astype(float)  # 데이터 타입을 float으로 변경\n",
    "                test_df.interpolate(method='polynomial', order=2, limit_direction='both', inplace=True)\n",
    "                \n",
    "            # 이상치 처리\n",
    "            for idx in range(0, len(test_df), 75):\n",
    "                seq_df = test_df.iloc[idx: idx + 75]\n",
    "                Q1 = seq_df[cols].quantile(0.25)\n",
    "                Q3 = seq_df[cols].quantile(0.75)\n",
    "                IQR = Q3 - Q1\n",
    "\n",
    "                seq_df.loc[(seq_df[cols] < Q1 - 1.5 * IQR) | (seq_df[cols] > Q3 + 1.5 * IQR), cols] = np.nan\n",
    "                seq_df.interpolate(method='linear', inplace=True)\n",
    "                test_df.iloc[idx: idx + 75] = seq_df\n",
    "\n",
    "            # 5.2. 시프트 연산을 통해 각 컬럼을 150\n",
    "            for x in range(-1, -150, -1) : \n",
    "                test_df['Shift_'+ str(x)] = test_df[cols].shift(x)\n",
    "        \n",
    "            #5.3. 인덱스가 75번째인 행만 남김 (50% 중복)\n",
    "            test_df.reset_index(drop=True, inplace=True)\n",
    "            test_df = test_df.iloc[test_df.index%75 == 0]\n",
    "        \n",
    "            # 5.4. 결측값이 있는 행을 시퀀스의 평균값으로 채우기\n",
    "            test_df.fillna(test_df.mean(), inplace=True)\n",
    "    \n",
    "            # 5.5. test_df의 길이를 계산하고, 해당 길이만큼 각 리스트에 값을 추가\n",
    "            test_df_len = len(test_df)\n",
    "            print(\"Processing: {} - Behavior: {} - test_df_len: {}\".format(name, label_data['behavior'].iloc[0], test_df_len))\n",
    "            test_df.apply(lambda x : globals()[\"{}_list\".format(cols)].append(list(x)), axis = 1)\n",
    "    \n",
    "        for l in range(test_df_len) :\n",
    "            globals()['behavior_list'].append(label_data['behavior'].iloc[0]) \n",
    "            globals()['Pname_list'].append(label_data['Pname'].iloc[0])\n",
    "            \n",
    "        \n",
    "    print(\"After processing\", name, \"- data_x sample count:\", len(globals()[\"Gyro_x_list\"]))\n",
    "    print(\"After processing\", name, \"- data_y sample count:\", len(globals()['behavior_list']))"
   ]
  },
  {
   "cell_type": "markdown",
   "id": "052e289b",
   "metadata": {},
   "source": [
    "1. 빈 데이터프레임 생성: create_empty_df 함수는 주어진 인덱스 목록과 열 이름을 사용하여 빈 데이터프레임을 생성합니다.\n",
    "\n",
    "2. 센서 데이터 처리: process_sensor_data 함수는 각 센서 데이터 열에 대해 시간 인덱스를 생성하고, NaN 값을 처리합니다. 이 작업은 선형 보간법을 사용하여 수행됩니다.\n",
    "\n",
    "3. 시프트 및 필터링: shift_and_filter 함수는 주어진 데이터프레임을 시프트 연산을 수행한 후, NaN 값을 포함하는 행을 제거합니다. 이 작업은 시계열 데이터를 처리하는 데 사용됩니다.\n",
    "\n",
    "4. 데이터 저장: 이 작업은 전체 데이터셋에 대해 실행되며, 각 센서 데이터와 메타데이터를 저장하기 위한 리스트를 생성합니다.\n",
    "\n",
    "5. 각 행동 데이터 처리: 주어진 행동 데이터 범위에 대해, 센서 데이터를 처리하고 시프트 연산 및 필터링을 수행한 후, 각 리스트에 행동과 이름 정보를 추가합니다."
   ]
  },
  {
   "cell_type": "code",
   "execution_count": 10,
   "id": "2994657f",
   "metadata": {
    "ExecuteTime": {
     "end_time": "2023-05-09T15:19:38.517277Z",
     "start_time": "2023-05-09T15:19:38.515077Z"
    },
    "scrolled": true
   },
   "outputs": [],
   "source": [
    "total_data = []\n",
    "\n",
    "# 각 컬럼에 대하여\n",
    "for col in range(len(label_data.columns)) : \n",
    "    col_name = label_data.columns[col]\n",
    "    \n",
    "    # 2번째부터 7번째 컬럼까지 해당하는 경우\n",
    "    if col >= 2 and col <= 7 :\n",
    "        # 전역 변수로 선언한 각 컬럼 이름에 대응하는 리스트를 total_data에 추가\n",
    "        total_data.append(globals()['{}_list'.format(col_name)])"
   ]
  },
  {
   "cell_type": "code",
   "execution_count": 11,
   "id": "cce98e11",
   "metadata": {
    "ExecuteTime": {
     "end_time": "2023-05-09T15:19:39.674596Z",
     "start_time": "2023-05-09T15:19:39.614823Z"
    }
   },
   "outputs": [
    {
     "name": "stdout",
     "output_type": "stream",
     "text": [
      "Shape of data 0: (1704, 150)\n",
      "Shape of data 1: (1704, 150)\n",
      "Shape of data 2: (1704, 150)\n",
      "Shape of data 3: (1704, 150)\n",
      "Shape of data 4: (1704, 150)\n",
      "Shape of data 5: (1704, 150)\n"
     ]
    }
   ],
   "source": [
    "for i, data in enumerate(total_data):\n",
    "    print(f'Shape of data {i}: {np.array(data).shape}')"
   ]
  },
  {
   "cell_type": "markdown",
   "id": "b7bee599",
   "metadata": {},
   "source": [
    "# X_tain Data만들기"
   ]
  },
  {
   "cell_type": "code",
   "execution_count": 12,
   "id": "d508c8a2",
   "metadata": {
    "ExecuteTime": {
     "end_time": "2023-05-09T15:19:40.908814Z",
     "start_time": "2023-05-09T15:19:40.851274Z"
    }
   },
   "outputs": [
    {
     "name": "stdout",
     "output_type": "stream",
     "text": [
      "(1704, 150, 6)\n"
     ]
    }
   ],
   "source": [
    "# padded_total_data 변환하여 total_x_train을 만듦\n",
    "total_x_train = np.transpose(total_data,(1,2,0))\n",
    "print(np.array(total_x_train).shape)"
   ]
  },
  {
   "cell_type": "markdown",
   "id": "e031cc66",
   "metadata": {},
   "source": [
    "# Y_tain Data 만들기"
   ]
  },
  {
   "cell_type": "code",
   "execution_count": 13,
   "id": "c523bbc9",
   "metadata": {
    "ExecuteTime": {
     "end_time": "2023-05-09T15:19:42.089621Z",
     "start_time": "2023-05-09T15:19:42.085811Z"
    }
   },
   "outputs": [
    {
     "name": "stdout",
     "output_type": "stream",
     "text": [
      "로드된 y 데이터 길이 :  (1704, 7)\n"
     ]
    },
    {
     "name": "stderr",
     "output_type": "stream",
     "text": [
      "/home/user/anaconda3/envs/Junhyeok/lib/python3.9/site-packages/sklearn/preprocessing/_encoders.py:828: FutureWarning: `sparse` was renamed to `sparse_output` in version 1.2 and will be removed in 1.4. `sparse_output` is ignored unless you leave `sparse` to its default value.\n",
      "  warnings.warn(\n"
     ]
    }
   ],
   "source": [
    "# behavior_list를 정수 값과 원-핫 벡터로 변환\n",
    "values = np.array(behavior_list)\n",
    "\n",
    "# LabelEncoder를 사용하여 행동 레이블을 정수로 변환합니다. 이렇게 하면 각 레이블에 고유한 정수가 할당\n",
    "label_encoder = LabelEncoder()\n",
    "integer_encoded = label_encoder.fit_transform(values)\n",
    "\n",
    "# 변환된 정수 레이블을 2D 배열로 바꾸어 OneHotEncoder에 입력으로 제공\n",
    "integer_encoded = integer_encoded.reshape(len(integer_encoded), 1)\n",
    "\n",
    "# OneHotEncoder를 사용하여 정수 레이블을 원-핫 벡터로 변환\n",
    "onehot_encoder = OneHotEncoder(sparse=False)\n",
    "onehot_encoded = onehot_encoder.fit_transform(integer_encoded)\n",
    "\n",
    "# 원-핫 인코딩된 행동 레이블을 y_train (total_y_train)으로 사용할 수 있는 형태로 변환\n",
    "total_y_train = onehot_encoded\n",
    "print(\"로드된 y 데이터 길이 : \", np.array(total_y_train).shape)"
   ]
  },
  {
   "cell_type": "code",
   "execution_count": 14,
   "id": "62ee0c90",
   "metadata": {
    "ExecuteTime": {
     "end_time": "2023-05-09T15:19:43.305765Z",
     "start_time": "2023-05-09T15:19:43.272558Z"
    }
   },
   "outputs": [],
   "source": [
    "# 변환된 데이터를 저장\n",
    "np.save('kaggle_x_data.npy', total_x_train)\n",
    "np.save('kaggle_y_data.npy', behavior_list)"
   ]
  }
 ],
 "metadata": {
  "kernelspec": {
   "display_name": "Junhyeok",
   "language": "python",
   "name": "junhyeok"
  },
  "language_info": {
   "codemirror_mode": {
    "name": "ipython",
    "version": 3
   },
   "file_extension": ".py",
   "mimetype": "text/x-python",
   "name": "python",
   "nbconvert_exporter": "python",
   "pygments_lexer": "ipython3",
   "version": "3.9.13"
  },
  "toc": {
   "base_numbering": 1,
   "nav_menu": {},
   "number_sections": true,
   "sideBar": true,
   "skip_h1_title": false,
   "title_cell": "Table of Contents",
   "title_sidebar": "Contents",
   "toc_cell": false,
   "toc_position": {},
   "toc_section_display": true,
   "toc_window_display": false
  },
  "varInspector": {
   "cols": {
    "lenName": 16,
    "lenType": 16,
    "lenVar": 40
   },
   "kernels_config": {
    "python": {
     "delete_cmd_postfix": "",
     "delete_cmd_prefix": "del ",
     "library": "var_list.py",
     "varRefreshCmd": "print(var_dic_list())"
    },
    "r": {
     "delete_cmd_postfix": ") ",
     "delete_cmd_prefix": "rm(",
     "library": "var_list.r",
     "varRefreshCmd": "cat(var_dic_list()) "
    }
   },
   "types_to_exclude": [
    "module",
    "function",
    "builtin_function_or_method",
    "instance",
    "_Feature"
   ],
   "window_display": false
  }
 },
 "nbformat": 4,
 "nbformat_minor": 5
}
